{
 "cells": [
  {
   "cell_type": "code",
   "execution_count": 91,
   "id": "a4c3d9bd-2292-46e9-8a5f-a2b79d910af0",
   "metadata": {},
   "outputs": [],
   "source": [
    "# DT\n",
    "\n",
    "import pandas as pd\n",
    "import numpy as np\n",
    "from sklearn.model_selection import train_test_split\n",
    "from sklearn.tree import DecisionTreeClassifier\n",
    "from sklearn.metrics import accuracy_score"
   ]
  },
  {
   "cell_type": "code",
   "execution_count": 93,
   "id": "538b04d9-7f07-47d7-9c92-35f7146cd0c5",
   "metadata": {},
   "outputs": [
    {
     "name": "stdout",
     "output_type": "stream",
     "text": [
      "   battery_power  blue  clock_speed  dual_sim  fc  four_g  int_memory  m_dep  \\\n",
      "0            842     0          2.2         0   1       0           7    0.6   \n",
      "1           1021     1          0.5         1   0       1          53    0.7   \n",
      "2            563     1          0.5         1   2       1          41    0.9   \n",
      "3            615     1          2.5         0   0       0          10    0.8   \n",
      "4           1821     1          1.2         0  13       1          44    0.6   \n",
      "\n",
      "   mobile_wt  n_cores  ...  px_height  px_width   ram  sc_h  sc_w  talk_time  \\\n",
      "0        188        2  ...         20       756  2549     9     7         19   \n",
      "1        136        3  ...        905      1988  2631    17     3          7   \n",
      "2        145        5  ...       1263      1716  2603    11     2          9   \n",
      "3        131        6  ...       1216      1786  2769    16     8         11   \n",
      "4        141        2  ...       1208      1212  1411     8     2         15   \n",
      "\n",
      "   three_g  touch_screen  wifi  price_range  \n",
      "0        0             0     1            1  \n",
      "1        1             1     0            2  \n",
      "2        1             1     0            2  \n",
      "3        1             0     0            2  \n",
      "4        1             1     0            1  \n",
      "\n",
      "[5 rows x 21 columns]\n",
      "Index(['battery_power', 'blue', 'clock_speed', 'dual_sim', 'fc', 'four_g',\n",
      "       'int_memory', 'm_dep', 'mobile_wt', 'n_cores', 'pc', 'px_height',\n",
      "       'px_width', 'ram', 'sc_h', 'sc_w', 'talk_time', 'three_g',\n",
      "       'touch_screen', 'wifi', 'price_range'],\n",
      "      dtype='object')\n"
     ]
    }
   ],
   "source": [
    "# CSV 파일 불러기기\n",
    "file_path = \"C:/Ai-class/mobile.csv\"  \n",
    "df = pd.read_csv(file_path)\n",
    "\n",
    "# 데이터프레임 확인\n",
    "print(df.head())\n",
    "print(df.columns)"
   ]
  },
  {
   "cell_type": "code",
   "execution_count": 7,
   "id": "ed35277a-9e43-434a-bad9-943a2d35b8c4",
   "metadata": {},
   "outputs": [],
   "source": [
    "#마지막 컬럼이 레이블이라 가정\n",
    "X = df.iloc[:, :-1] \n",
    "y = df.iloc[:, -1]   "
   ]
  },
  {
   "cell_type": "code",
   "execution_count": 9,
   "id": "0d3dc3da-54b4-4824-8f2d-781c5cd62bc6",
   "metadata": {},
   "outputs": [],
   "source": [
    "#훈련 데이터와 테스트 데이터를 나눔\n",
    "X_train, X_test, y_train, y_test = train_test_split(X, y, test_size=0.2, random_state=42)"
   ]
  },
  {
   "cell_type": "code",
   "execution_count": 11,
   "id": "8d22e6ec-88f8-4476-a147-cb6c1892f81b",
   "metadata": {},
   "outputs": [],
   "source": [
    "# 의사결정나무 모델 생성 및 학습 (DT 분류)\n",
    "dt_model = DecisionTreeClassifier(random_state=42)\n",
    "dt_model.fit(X_train, y_train)\n",
    "\n",
    "# 예측한 값을 y_pred에 저장\n",
    "y_pred = dt_model.predict(X_test)"
   ]
  },
  {
   "cell_type": "code",
   "execution_count": 13,
   "id": "e4001ac1-a479-4984-8512-02f5f124561a",
   "metadata": {},
   "outputs": [
    {
     "name": "stdout",
     "output_type": "stream",
     "text": [
      "\n",
      "📌 [1] 예측값 vs 실제값 비교\n",
      "     실제값  예측값\n",
      "0      0    0\n",
      "1      2    2\n",
      "2      1    1\n",
      "3      3    3\n",
      "4      1    1\n",
      "..   ...  ...\n",
      "395    3    3\n",
      "396    2    1\n",
      "397    1    1\n",
      "398    1    1\n",
      "399    2    2\n",
      "\n",
      "[400 rows x 2 columns]\n",
      "\n",
      "📌 [2] 정확도 출력\n",
      "모델 정확도: 0.8325\n"
     ]
    }
   ],
   "source": [
    "#예측값 y_pred와 정답 y_test 값을 비교\n",
    "print(\"\\n📌 [1] 예측값 vs 실제값 비교\")\n",
    "result_df = pd.DataFrame({'실제값': y_test.values, '예측값': y_pred})\n",
    "print(result_df)  \n",
    "\n",
    "#정확도 계산\n",
    "print(\"\\n📌 [2] 정확도 출력\")\n",
    "accuracy = accuracy_score(y_test, y_pred)\n",
    "print(f\"모델 정확도: {accuracy:.4f}\")"
   ]
  },
  {
   "cell_type": "code",
   "execution_count": 83,
   "id": "084e77e5-5db9-43bc-9924-f82887ce14e4",
   "metadata": {},
   "outputs": [],
   "source": [
    "# SVM\n",
    "import pandas as pd\n",
    "import numpy as np\n",
    "import matplotlib.pyplot as plt\n",
    "import seaborn as sns\n",
    "from sklearn.svm import SVC\n",
    "from sklearn.metrics import accuracy_score, classification_report, confusion_matrix"
   ]
  },
  {
   "cell_type": "code",
   "execution_count": 85,
   "id": "76fc2315-036a-4623-8b7b-0cc3e891b7ca",
   "metadata": {},
   "outputs": [],
   "source": [
    "# CSV 파일 불러오기\n",
    "file_path = \"C:/Ai-class/mobile.csv\"  \n",
    "df = pd.read_csv(file_path)\n",
    "\n",
    "# 마지막 컬럼이 레이블라 가정\n",
    "X = df.iloc[:, :-1] \n",
    "y = df.iloc[:, -1]   "
   ]
  },
  {
   "cell_type": "code",
   "execution_count": 87,
   "id": "8f95016f-c1c9-47c5-b2a8-a60f1165e0be",
   "metadata": {},
   "outputs": [],
   "source": [
    "# 훈련 데이터와 테스트 데이터로 나눔\n",
    "X_train, X_test, y_train, y_test = train_test_split(X, y, test_size=0.2, random_state=42)"
   ]
  },
  {
   "cell_type": "code",
   "execution_count": 89,
   "id": "eb85a21a-067d-4f65-94b5-5671a6bbf101",
   "metadata": {},
   "outputs": [],
   "source": [
    "# SVM 모델 생성 및 학습\n",
    "svm_model = SVC(kernel=\"linear\", random_state=42) \n",
    "svm_model.fit(X_train, y_train)\n",
    "\n",
    "# 5. 예측 수행\n",
    "y_pred = svm_model.predict(X_test)"
   ]
  },
  {
   "cell_type": "code",
   "execution_count": 30,
   "id": "ef9ee3c7-f798-465d-ac5b-42160c915349",
   "metadata": {},
   "outputs": [
    {
     "name": "stdout",
     "output_type": "stream",
     "text": [
      "\n",
      "📌 [1] 예측값 vs 실제값 비교\n",
      "     실제값  예측값\n",
      "0      0    0\n",
      "1      2    2\n",
      "2      1    1\n",
      "3      3    3\n",
      "4      1    1\n",
      "..   ...  ...\n",
      "395    3    3\n",
      "396    2    2\n",
      "397    1    1\n",
      "398    1    1\n",
      "399    2    2\n",
      "\n",
      "[400 rows x 2 columns]\n",
      "\n",
      "📌 [2] 정확도 출력\n",
      "SVM 정확도: 0.9700\n"
     ]
    }
   ],
   "source": [
    "# 예측값 y_pred와 정답 y_test 값을 비교\n",
    "print(\"\\n📌 [1] 예측값 vs 실제값 비교\")\n",
    "result_df = pd.DataFrame({'실제값': y_test.values, '예측값': y_pred})\n",
    "print(result_df)\n",
    "\n",
    "print(\"\\n📌 [2] 정확도 출력\")\n",
    "accuracy = accuracy_score(y_test, y_pred)\n",
    "print(f\"SVM 정확도: {accuracy:.4f}\")"
   ]
  },
  {
   "cell_type": "code",
   "execution_count": 75,
   "id": "7e371384-b15e-47a8-b013-156a829b558b",
   "metadata": {},
   "outputs": [],
   "source": [
    "#LF\n",
    "\n",
    "import pandas as pd\n",
    "import numpy as np\n",
    "import matplotlib.pyplot as plt\n",
    "import seaborn as sns\n",
    "from sklearn.linear_model import LogisticRegression\n",
    "from sklearn.model_selection import train_test_split\n",
    "from sklearn.metrics import accuracy_score, classification_report, confusion_matrix"
   ]
  },
  {
   "cell_type": "code",
   "execution_count": 77,
   "id": "c1280673-aaee-445d-b61f-db58fac7c45d",
   "metadata": {},
   "outputs": [],
   "source": [
    "file_path = \"C:/Ai-class/mobile.csv\"  \n",
    "df = pd.read_csv(file_path)\n",
    "\n",
    "X = df.iloc[:, :-1] \n",
    "y = df.iloc[:, -1]   "
   ]
  },
  {
   "cell_type": "code",
   "execution_count": 79,
   "id": "4ff34c00-de86-4ec2-86d1-02ed266d02de",
   "metadata": {},
   "outputs": [],
   "source": [
    "X_train, X_test, y_train, y_test = train_test_split(X, y, test_size=0.2, random_state=42)"
   ]
  },
  {
   "cell_type": "code",
   "execution_count": 81,
   "id": "80813f5e-e471-40af-aa81-e02a7df78f5e",
   "metadata": {},
   "outputs": [
    {
     "name": "stderr",
     "output_type": "stream",
     "text": [
      "C:\\Users\\hash0\\anaconda3\\Lib\\site-packages\\sklearn\\linear_model\\_logistic.py:469: ConvergenceWarning: lbfgs failed to converge (status=1):\n",
      "STOP: TOTAL NO. of ITERATIONS REACHED LIMIT.\n",
      "\n",
      "Increase the number of iterations (max_iter) or scale the data as shown in:\n",
      "    https://scikit-learn.org/stable/modules/preprocessing.html\n",
      "Please also refer to the documentation for alternative solver options:\n",
      "    https://scikit-learn.org/stable/modules/linear_model.html#logistic-regression\n",
      "  n_iter_i = _check_optimize_result(\n"
     ]
    }
   ],
   "source": [
    "# 4. 로지스틱 회귀 모델 생성 및 학습\n",
    "lr_model = LogisticRegression(max_iter=200, random_state=42)\n",
    "lr_model.fit(X_train, y_train)\n",
    "\n",
    "# 5. 예측 수행\n",
    "y_pred = lr_model.predict(X_test)"
   ]
  },
  {
   "cell_type": "code",
   "execution_count": 47,
   "id": "e9024309-9946-4338-a9da-14e6cdfe41a7",
   "metadata": {},
   "outputs": [
    {
     "name": "stdout",
     "output_type": "stream",
     "text": [
      "\n",
      "📌 [1] 예측값 vs 실제값 비교\n",
      "     실제값  예측값\n",
      "0      0    0\n",
      "1      2    2\n",
      "2      1    0\n",
      "3      3    3\n",
      "4      1    1\n",
      "..   ...  ...\n",
      "395    3    3\n",
      "396    2    2\n",
      "397    1    2\n",
      "398    1    3\n",
      "399    2    2\n",
      "\n",
      "[400 rows x 2 columns]\n",
      "\n",
      "📌 [2] 정확도 출력\n",
      "로지스틱 회귀 정확도: 0.6450\n"
     ]
    }
   ],
   "source": [
    "# 6. 결과 출력\n",
    "print(\"\\n📌 [1] 예측값 vs 실제값 비교\")\n",
    "result_df = pd.DataFrame({'실제값': y_test.values, '예측값': y_pred})\n",
    "print(result_df)\n",
    "\n",
    "print(\"\\n📌 [2] 정확도 출력\")\n",
    "accuracy = accuracy_score(y_test, y_pred)\n",
    "print(f\"로지스틱 회귀 정확도: {accuracy:.4f}\")"
   ]
  },
  {
   "cell_type": "code",
   "execution_count": 65,
   "id": "57f96091-3aac-45d8-ad90-1d246a9bd790",
   "metadata": {},
   "outputs": [],
   "source": [
    "#RF\n",
    "\n",
    "import pandas as pd\n",
    "import numpy as np\n",
    "import matplotlib.pyplot as plt\n",
    "import seaborn as sns\n",
    "from sklearn.ensemble import RandomForestClassifier\n",
    "from sklearn.model_selection import train_test_split\n",
    "from sklearn.metrics import accuracy_score, classification_report, confusion_matrix"
   ]
  },
  {
   "cell_type": "code",
   "execution_count": 67,
   "id": "1938ad88-e9ed-4361-aae6-d89c16c123e8",
   "metadata": {},
   "outputs": [],
   "source": [
    "file_path = \"C:/Ai-class/mobile.csv\"  \n",
    "df = pd.read_csv(file_path)\n",
    "\n",
    "X = df.iloc[:, :-1] \n",
    "y = df.iloc[:, -1]   "
   ]
  },
  {
   "cell_type": "code",
   "execution_count": 69,
   "id": "3d8d51c5-3427-42fd-aa6c-82731e3611d0",
   "metadata": {},
   "outputs": [],
   "source": [
    "X_train, X_test, y_train, y_test = train_test_split(X, y, test_size=0.2, random_state=42)"
   ]
  },
  {
   "cell_type": "code",
   "execution_count": 71,
   "id": "72f5ce94-ff87-461c-a734-e383efe3f772",
   "metadata": {},
   "outputs": [],
   "source": [
    "rf_model = RandomForestClassifier(n_estimators=100, random_state=42)\n",
    "rf_model.fit(X_train, y_train)\n",
    "\n",
    "y_pred = rf_model.predict(X_test)"
   ]
  },
  {
   "cell_type": "code",
   "execution_count": 72,
   "id": "3246ac22-6ab6-4587-adcd-dc8530ad1581",
   "metadata": {},
   "outputs": [
    {
     "name": "stdout",
     "output_type": "stream",
     "text": [
      "\n",
      "📌 [1] 예측값 vs 실제값 비교\n",
      "     실제값  예측값\n",
      "0      0    0\n",
      "1      2    2\n",
      "2      1    1\n",
      "3      3    3\n",
      "4      1    1\n",
      "..   ...  ...\n",
      "395    3    3\n",
      "396    2    2\n",
      "397    1    1\n",
      "398    1    1\n",
      "399    2    2\n",
      "\n",
      "[400 rows x 2 columns]\n",
      "\n",
      "📌 [2] 정확도 출력\n",
      "랜덤 포레스트 정확도: 0.8925\n"
     ]
    }
   ],
   "source": [
    "print(\"\\n📌 [1] 예측값 vs 실제값 비교\")\n",
    "result_df = pd.DataFrame({'실제값': y_test.values, '예측값': y_pred})\n",
    "print(result_df)\n",
    "\n",
    "print(\"\\n📌 [2] 정확도 출력\")\n",
    "accuracy = accuracy_score(y_test, y_pred)\n",
    "print(f\"랜덤 포레스트 정확도: {accuracy:.4f}\")"
   ]
  },
  {
   "cell_type": "code",
   "execution_count": null,
   "id": "1cfe2394-d669-4fa3-8ac0-6a50f39855bd",
   "metadata": {},
   "outputs": [],
   "source": []
  }
 ],
 "metadata": {
  "kernelspec": {
   "display_name": "Python [conda env:base] *",
   "language": "python",
   "name": "conda-base-py"
  },
  "language_info": {
   "codemirror_mode": {
    "name": "ipython",
    "version": 3
   },
   "file_extension": ".py",
   "mimetype": "text/x-python",
   "name": "python",
   "nbconvert_exporter": "python",
   "pygments_lexer": "ipython3",
   "version": "3.12.7"
  }
 },
 "nbformat": 4,
 "nbformat_minor": 5
}
