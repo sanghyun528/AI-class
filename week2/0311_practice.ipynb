{
 "cells": [
  {
   "cell_type": "markdown",
   "id": "1b8df7de-8a62-4987-b9c2-0fd2192cb900",
   "metadata": {},
   "source": [
    "# CSV 파일 로컬주소로 불러오기"
   ]
  },
  {
   "cell_type": "code",
   "execution_count": 34,
   "id": "9d92a932-b855-4c94-85d0-53c397a5e3ca",
   "metadata": {},
   "outputs": [
    {
     "name": "stdout",
     "output_type": "stream",
     "text": [
      "   PassengerId  Survived  Pclass  \\\n",
      "0            1         0       3   \n",
      "1            2         1       1   \n",
      "2            3         1       3   \n",
      "3            4         1       1   \n",
      "4            5         0       3   \n",
      "\n",
      "                                                Name     Sex   Age  SibSp  \\\n",
      "0                            Braund, Mr. Owen Harris    male  22.0      1   \n",
      "1  Cumings, Mrs. John Bradley (Florence Briggs Th...  female  38.0      1   \n",
      "2                             Heikkinen, Miss. Laina  female  26.0      0   \n",
      "3       Futrelle, Mrs. Jacques Heath (Lily May Peel)  female  35.0      1   \n",
      "4                           Allen, Mr. William Henry    male  35.0      0   \n",
      "\n",
      "   Parch            Ticket     Fare Cabin Embarked  \n",
      "0      0         A/5 21171   7.2500   NaN        S  \n",
      "1      0          PC 17599  71.2833   C85        C  \n",
      "2      0  STON/O2. 3101282   7.9250   NaN        S  \n",
      "3      0            113803  53.1000  C123        S  \n",
      "4      0            373450   8.0500   NaN        S  \n",
      "Index(['PassengerId', 'Survived', 'Pclass', 'Name', 'Sex', 'Age', 'SibSp',\n",
      "       'Parch', 'Ticket', 'Fare', 'Cabin', 'Embarked'],\n",
      "      dtype='object')\n"
     ]
    }
   ],
   "source": [
    "# csv 파일 로컬주소로 불러오기\n",
    "\n",
    "import pandas as pd\n",
    "import numpy as np\n",
    "\n",
    "file_path = \"C:/Ai-class/titanic.csv\" \n",
    "df = pd.read_csv(file_path)\n",
    "\n",
    "# 데이터프레임 확인\n",
    "print(df.head())\n",
    "print(df.columns)"
   ]
  },
  {
   "cell_type": "markdown",
   "id": "beb2b419-9c10-4cfa-9a11-4ca72171ad91",
   "metadata": {},
   "source": [
    "# CSV 파일 웹주소로 불러오기"
   ]
  },
  {
   "cell_type": "code",
   "execution_count": 21,
   "id": "7eb8e018-c43c-4afd-bdc6-d2b25fc9d8fd",
   "metadata": {},
   "outputs": [
    {
     "name": "stdout",
     "output_type": "stream",
     "text": [
      "   PassengerId  Survived  Pclass  \\\n",
      "0            1         0       3   \n",
      "1            2         1       1   \n",
      "2            3         1       3   \n",
      "3            4         1       1   \n",
      "4            5         0       3   \n",
      "\n",
      "                                                Name     Sex   Age  SibSp  \\\n",
      "0                            Braund, Mr. Owen Harris    male  22.0      1   \n",
      "1  Cumings, Mrs. John Bradley (Florence Briggs Th...  female  38.0      1   \n",
      "2                             Heikkinen, Miss. Laina  female  26.0      0   \n",
      "3       Futrelle, Mrs. Jacques Heath (Lily May Peel)  female  35.0      1   \n",
      "4                           Allen, Mr. William Henry    male  35.0      0   \n",
      "\n",
      "   Parch            Ticket     Fare Cabin Embarked  \n",
      "0      0         A/5 21171   7.2500   NaN        S  \n",
      "1      0          PC 17599  71.2833   C85        C  \n",
      "2      0  STON/O2. 3101282   7.9250   NaN        S  \n",
      "3      0            113803  53.1000  C123        S  \n",
      "4      0            373450   8.0500   NaN        S  \n"
     ]
    }
   ],
   "source": [
    "# csv 파일 웹주소로 불러오기\n",
    "\n",
    "import pandas as pd\n",
    "\n",
    "# GitHub의 'raw' CSV 파일 URL 사용\n",
    "url = \"https://raw.githubusercontent.com/MyungKyuYi/AI-class/main/titanic.csv\"\n",
    "\n",
    "# CSV 파일 불러오기\n",
    "df_1 = pd.read_csv(url)\n",
    "\n",
    "# 데이터프레임 확인\n",
    "print(df_1.head())"
   ]
  },
  {
   "cell_type": "markdown",
   "id": "96eeb4d5-ad99-4efb-8028-e7dd6855806a",
   "metadata": {},
   "source": [
    "# xlsx 파일 로컬주소로 불러오기"
   ]
  },
  {
   "cell_type": "code",
   "execution_count": 40,
   "id": "10da0533-0d0b-4452-9bf8-71caf20de194",
   "metadata": {},
   "outputs": [
    {
     "name": "stdout",
     "output_type": "stream",
     "text": [
      "   Num.  subject_ID Sex(M/F)  Age(year)  Height(cm)  Weight(kg)  \\\n",
      "0     1           2   Female         45         152          63   \n",
      "1     1           2   Female         45         152          63   \n",
      "2     1           2   Female         45         152          63   \n",
      "3     2           3   Female         50         157          50   \n",
      "4     2           3   Female         50         157          50   \n",
      "\n",
      "   Systolic Blood Pressure(mmHg)  Diastolic Blood Pressure(mmHg)  \\\n",
      "0                            161                              89   \n",
      "1                            161                              89   \n",
      "2                            161                              89   \n",
      "3                            160                              93   \n",
      "4                            160                              93   \n",
      "\n",
      "   Heart Rate(b/m)  BMI(kg/m^2)  ...  2091  2092  2093  2094  2095  2096  \\\n",
      "0               97    27.268006  ...  1766  1766  1766  1833  1833  1827   \n",
      "1               97    27.268006  ...  1985  1985  2026  2026  2026  1977   \n",
      "2               97    27.268006  ...  1942  1900  1900  1938  1938  1938   \n",
      "3               76    20.284799  ...  2073  2072  2072  2072  2051  2051   \n",
      "4               76    20.284799  ...  2021  2010  2010  2010  2001  2001   \n",
      "\n",
      "   2097  2098  2099  2100  \n",
      "0  1827  1827  1754  1754  \n",
      "1  1977  1997  1997  1997  \n",
      "2  1924  1924  1929  1929  \n",
      "3  2036  2036  2036  2045  \n",
      "4  2003  2003  2003  1989  \n",
      "\n",
      "[5 rows x 2114 columns]\n",
      "Index(['Num.', 'subject_ID', 'Sex(M/F)', 'Age(year)', 'Height(cm)',\n",
      "       'Weight(kg)', 'Systolic Blood Pressure(mmHg)',\n",
      "       'Diastolic Blood Pressure(mmHg)', 'Heart Rate(b/m)', 'BMI(kg/m^2)',\n",
      "       ...\n",
      "       '2091', '2092', '2093', '2094', '2095', '2096', '2097', '2098', '2099',\n",
      "       '2100'],\n",
      "      dtype='object', length=2114)\n"
     ]
    }
   ],
   "source": [
    "# xlsx 파일 로컬주소로 불러오기\n",
    "\n",
    "import pandas as pd\n",
    "import numpy as np\n",
    "\n",
    "file_path = \"C:/Ai-class/combined_dataset-1.xlsx\" \n",
    "df = pd.read_excel(file_path)\n",
    "\n",
    "# 데이터프레임 확인\n",
    "print(df.head())\n",
    "print(df.columns)"
   ]
  },
  {
   "cell_type": "markdown",
   "id": "1e4ca93a-d381-410d-b3a8-36f7ca7703e7",
   "metadata": {},
   "source": [
    "# xlsx 파일 웹주소로 불러오기"
   ]
  },
  {
   "cell_type": "code",
   "execution_count": 23,
   "id": "1efa5089-4799-46f8-a2a1-60e7ebba15a5",
   "metadata": {},
   "outputs": [
    {
     "name": "stdout",
     "output_type": "stream",
     "text": [
      "   Num.  subject_ID Sex(M/F)  Age(year)  Height(cm)  Weight(kg)  \\\n",
      "0     1           2   Female         45         152          63   \n",
      "1     1           2   Female         45         152          63   \n",
      "2     1           2   Female         45         152          63   \n",
      "3     2           3   Female         50         157          50   \n",
      "4     2           3   Female         50         157          50   \n",
      "\n",
      "   Systolic Blood Pressure(mmHg)  Diastolic Blood Pressure(mmHg)  \\\n",
      "0                            161                              89   \n",
      "1                            161                              89   \n",
      "2                            161                              89   \n",
      "3                            160                              93   \n",
      "4                            160                              93   \n",
      "\n",
      "   Heart Rate(b/m)  BMI(kg/m^2)  ...  2091  2092  2093  2094  2095  2096  \\\n",
      "0               97    27.268006  ...  1766  1766  1766  1833  1833  1827   \n",
      "1               97    27.268006  ...  1985  1985  2026  2026  2026  1977   \n",
      "2               97    27.268006  ...  1942  1900  1900  1938  1938  1938   \n",
      "3               76    20.284799  ...  2073  2072  2072  2072  2051  2051   \n",
      "4               76    20.284799  ...  2021  2010  2010  2010  2001  2001   \n",
      "\n",
      "   2097  2098  2099  2100  \n",
      "0  1827  1827  1754  1754  \n",
      "1  1977  1997  1997  1997  \n",
      "2  1924  1924  1929  1929  \n",
      "3  2036  2036  2036  2045  \n",
      "4  2003  2003  2003  1989  \n",
      "\n",
      "[5 rows x 2114 columns]\n"
     ]
    }
   ],
   "source": [
    "# xlsx 파일 웹주소로 불러오기\n",
    "\n",
    "import pandas as pd\n",
    "import requests\n",
    "from io import BytesIO\n",
    "\n",
    "# Excel 파일 URL (GitHub raw URL 예제)\n",
    "url = \"https://raw.githubusercontent.com/MyungKyuYi/AI-class/main/combined_dataset-1.xlsx\"  \n",
    "\n",
    "# HTTP 요청하여 데이터 가져오기\n",
    "response = requests.get(url)\n",
    "\n",
    "# 응답 데이터를 BytesIO로 변환하여 Pandas에서 읽기\n",
    "df = pd.read_excel(BytesIO(response.content))\n",
    "\n",
    "# 데이터 확인\n",
    "print(df.head())"
   ]
  },
  {
   "cell_type": "markdown",
   "id": "a9e0718f-524b-40fc-ab1f-c836e627d5a8",
   "metadata": {},
   "source": [
    "# 결측치 확인"
   ]
  },
  {
   "cell_type": "code",
   "execution_count": 25,
   "id": "10ae5974-ddd1-4f9d-bae9-cb2027c72fd3",
   "metadata": {
    "scrolled": true
   },
   "outputs": [
    {
     "name": "stdout",
     "output_type": "stream",
     "text": [
      "             결측치 개수  결측치 비율(%)\n",
      "PassengerId       0   0.000000\n",
      "Survived          0   0.000000\n",
      "Pclass            0   0.000000\n",
      "Name              0   0.000000\n",
      "Sex               0   0.000000\n",
      "Age             177  19.865320\n",
      "SibSp             0   0.000000\n",
      "Parch             0   0.000000\n",
      "Ticket            0   0.000000\n",
      "Fare              0   0.000000\n",
      "Cabin           687  77.104377\n",
      "Embarked          2   0.224467\n"
     ]
    }
   ],
   "source": [
    "import pandas as pd\n",
    "\n",
    "# Titanic 데이터셋 불러오기 (GitHub 예제)\n",
    "url = \"https://raw.githubusercontent.com/MyungKyuYi/AI-class/main/titanic.csv\"\n",
    "df = pd.read_csv(url)\n",
    "\n",
    "# 각 열별 결측치 개수 확인\n",
    "missing_values = df.isnull().sum()\n",
    "\n",
    "# 결측치 비율(%) 계산\n",
    "missing_ratio = (df.isnull().sum() / len(df)) * 100\n",
    "\n",
    "# 결과 출력\n",
    "missing_df = pd.DataFrame({\"결측치 개수\": missing_values, \"결측치 비율(%)\": missing_ratio})\n",
    "print(missing_df)"
   ]
  },
  {
   "cell_type": "markdown",
   "id": "de8a8e06-bdf7-4869-8c0e-fcb24f023386",
   "metadata": {},
   "source": [
    "# 평균 나이로 결측치 채우기"
   ]
  },
  {
   "cell_type": "code",
   "execution_count": 28,
   "id": "ce768b19-5de8-49fb-ae4d-d70f51a73616",
   "metadata": {},
   "outputs": [
    {
     "name": "stdout",
     "output_type": "stream",
     "text": [
      "결측치 개수(적용 전): 177\n",
      "결측치 개수(적용 후): 0\n",
      "평균 나이로 채움: 29.70\n"
     ]
    },
    {
     "name": "stderr",
     "output_type": "stream",
     "text": [
      "C:\\Users\\hash0\\AppData\\Local\\Temp\\ipykernel_13248\\812731204.py:14: FutureWarning: A value is trying to be set on a copy of a DataFrame or Series through chained assignment using an inplace method.\n",
      "The behavior will change in pandas 3.0. This inplace method will never work because the intermediate object on which we are setting values always behaves as a copy.\n",
      "\n",
      "For example, when doing 'df[col].method(value, inplace=True)', try using 'df.method({col: value}, inplace=True)' or df[col] = df[col].method(value) instead, to perform the operation inplace on the original object.\n",
      "\n",
      "\n",
      "  df[\"Age\"].fillna(mean_age, inplace=True)\n"
     ]
    }
   ],
   "source": [
    "import pandas as pd\n",
    "\n",
    "# Titanic 데이터 불러오기\n",
    "url = \"https://raw.githubusercontent.com/MyungKyuYi/AI-class/main/titanic.csv\"\n",
    "df = pd.read_csv(url)\n",
    "\n",
    "# 결측치 개수 확인 (적용 전)\n",
    "print(\"결측치 개수(적용 전):\", df[\"Age\"].isnull().sum())\n",
    "\n",
    "# 평균 나이 계산\n",
    "mean_age = df[\"Age\"].mean()\n",
    "\n",
    "# 결측치를 평균 나이로 채우기\n",
    "df[\"Age\"].fillna(mean_age, inplace=True)\n",
    "\n",
    "# 결측치 개수 확인 (적용 후)\n",
    "print(\"결측치 개수(적용 후):\", df[\"Age\"].isnull().sum())\n",
    "\n",
    "# 평균 나이 출력\n",
    "print(f\"평균 나이로 채움: {mean_age:.2f}\")"
   ]
  },
  {
   "cell_type": "markdown",
   "id": "bbddcb4e-fdfc-4262-a0f1-dba80e93e3b0",
   "metadata": {},
   "source": [
    "# 특정 칼럼 삭제"
   ]
  },
  {
   "cell_type": "code",
   "execution_count": 30,
   "id": "78e4b63a-303d-431d-9a5b-d943c1361d64",
   "metadata": {
    "scrolled": true
   },
   "outputs": [
    {
     "name": "stdout",
     "output_type": "stream",
     "text": [
      "   PassengerId  Survived  Pclass     Sex   Age  SibSp  Parch     Fare Embarked\n",
      "0            1         0       3    male  22.0      1      0   7.2500        S\n",
      "1            2         1       1  female  38.0      1      0  71.2833        C\n",
      "2            3         1       3  female  26.0      0      0   7.9250        S\n",
      "3            4         1       1  female  35.0      1      0  53.1000        S\n",
      "4            5         0       3    male  35.0      0      0   8.0500        S\n"
     ]
    }
   ],
   "source": [
    "import pandas as pd\n",
    "\n",
    "# Titanic 데이터 불러오기\n",
    "url = \"https://raw.githubusercontent.com/MyungKyuYi/AI-class/main/titanic.csv\"\n",
    "df = pd.read_csv(url)\n",
    "\n",
    "# 삭제할 칼럼 지정 ('Cabin', 'Ticket' 삭제)\n",
    "columns_to_drop = [\"Cabin\", \"Ticket\", \"Name\"]\n",
    "df.drop(columns=columns_to_drop, inplace=True)\n",
    "\n",
    "# 변경된 데이터프레임 확인\n",
    "print(df.head())"
   ]
  },
  {
   "cell_type": "markdown",
   "id": "a981d79e-72fc-49bc-a0cf-48ab3f3ecbee",
   "metadata": {},
   "source": [
    "# 인코딩 (성별) > ( Male → 0, Female → 1 )"
   ]
  },
  {
   "cell_type": "code",
   "execution_count": 32,
   "id": "67256e8f-c9cc-4da5-bb40-ca514fa31db4",
   "metadata": {},
   "outputs": [
    {
     "name": "stdout",
     "output_type": "stream",
     "text": [
      "   PassengerId  Survived  Pclass  Sex   Age  SibSp  Parch     Fare Embarked\n",
      "0            1         0       3    0  22.0      1      0   7.2500        S\n",
      "1            2         1       1    1  38.0      1      0  71.2833        C\n",
      "2            3         1       3    1  26.0      0      0   7.9250        S\n",
      "3            4         1       1    1  35.0      1      0  53.1000        S\n",
      "4            5         0       3    0  35.0      0      0   8.0500        S\n"
     ]
    }
   ],
   "source": [
    "# 성별 인코딩 (Male → 0, Female → 1)\n",
    "df[\"Sex\"] = df[\"Sex\"].map({\"male\": 0, \"female\": 1})\n",
    "\n",
    "print(df.head())"
   ]
  }
 ],
 "metadata": {
  "kernelspec": {
   "display_name": "Python [conda env:base] *",
   "language": "python",
   "name": "conda-base-py"
  },
  "language_info": {
   "codemirror_mode": {
    "name": "ipython",
    "version": 3
   },
   "file_extension": ".py",
   "mimetype": "text/x-python",
   "name": "python",
   "nbconvert_exporter": "python",
   "pygments_lexer": "ipython3",
   "version": "3.12.7"
  }
 },
 "nbformat": 4,
 "nbformat_minor": 5
}
