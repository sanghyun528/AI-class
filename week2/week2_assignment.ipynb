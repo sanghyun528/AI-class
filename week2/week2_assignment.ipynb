{
 "cells": [
  {
   "cell_type": "code",
   "execution_count": null,
   "id": "cc3c6f86-ecc4-4995-8b86-7e98307a3ec5",
   "metadata": {},
   "outputs": [],
   "source": []
  },
  {
   "cell_type": "markdown",
   "id": "f612f053-aa5e-4442-9f47-b4d53b8fdb8e",
   "metadata": {},
   "source": [
    "# 1. 데이터 로딩"
   ]
  },
  {
   "cell_type": "code",
   "execution_count": 1,
   "id": "55f37264-56d4-4bc3-81ee-2e44cd76d289",
   "metadata": {},
   "outputs": [
    {
     "name": "stdout",
     "output_type": "stream",
     "text": [
      "   PassengerId  Survived  Pclass  \\\n",
      "0            1         0       3   \n",
      "1            2         1       1   \n",
      "2            3         1       3   \n",
      "3            4         1       1   \n",
      "4            5         0       3   \n",
      "\n",
      "                                                Name     Sex   Age  SibSp  \\\n",
      "0                            Braund, Mr. Owen Harris    male  22.0      1   \n",
      "1  Cumings, Mrs. John Bradley (Florence Briggs Th...  female  38.0      1   \n",
      "2                             Heikkinen, Miss. Laina  female  26.0      0   \n",
      "3       Futrelle, Mrs. Jacques Heath (Lily May Peel)  female  35.0      1   \n",
      "4                           Allen, Mr. William Henry    male  35.0      0   \n",
      "\n",
      "   Parch            Ticket     Fare Cabin Embarked  \n",
      "0      0         A/5 21171   7.2500   NaN        S  \n",
      "1      0          PC 17599  71.2833   C85        C  \n",
      "2      0  STON/O2. 3101282   7.9250   NaN        S  \n",
      "3      0            113803  53.1000  C123        S  \n",
      "4      0            373450   8.0500   NaN        S  \n"
     ]
    }
   ],
   "source": [
    "import pandas as pd\n",
    "import numpy as np\n",
    "\n",
    "# GitHub의 'raw' CSV 파일 URL 사용\n",
    "url = \"https://raw.githubusercontent.com/MyungKyuYi/AI-class/main/titanic.csv\"\n",
    "\n",
    "# CSV 파일 불러오기\n",
    "df = pd.read_csv(url)\n",
    "\n",
    "# 데이터프레임 확인\n",
    "print(df.head())"
   ]
  },
  {
   "cell_type": "markdown",
   "id": "5bc2c014-3311-4408-b773-0e22dfeb8f6e",
   "metadata": {},
   "source": [
    "# 2. 결측치 확인"
   ]
  },
  {
   "cell_type": "code",
   "execution_count": 3,
   "id": "62fc1411-9b5b-4420-93d6-2ec8a59c9792",
   "metadata": {},
   "outputs": [
    {
     "name": "stdout",
     "output_type": "stream",
     "text": [
      "             결측치 개수  결측치 비율(%)\n",
      "PassengerId       0   0.000000\n",
      "Survived          0   0.000000\n",
      "Pclass            0   0.000000\n",
      "Name              0   0.000000\n",
      "Sex               0   0.000000\n",
      "Age             177  19.865320\n",
      "SibSp             0   0.000000\n",
      "Parch             0   0.000000\n",
      "Ticket            0   0.000000\n",
      "Fare              0   0.000000\n",
      "Cabin           687  77.104377\n",
      "Embarked          2   0.224467\n"
     ]
    }
   ],
   "source": [
    "# 각 열별 결측치 개수 확인\n",
    "missing_values = df.isnull().sum()\n",
    "\n",
    "# 결측치 비율(%) 계산\n",
    "missing_ratio = (df.isnull().sum() / len(df)) * 100\n",
    "\n",
    "# 결과 출력\n",
    "missing_df = pd.DataFrame({\"결측치 개수\": missing_values, \"결측치 비율(%)\": missing_ratio})\n",
    "print(missing_df)"
   ]
  },
  {
   "cell_type": "markdown",
   "id": "188ea8ee-ea0d-4263-bdab-06b2af5b7697",
   "metadata": {},
   "source": [
    "### 결측치 확인 결과 \n",
    "\n",
    "##### Age(나이)에서 약 19.9% 비율 \n",
    "##### Cabin(객실번호)에서 약 77.1% 비율\n",
    "##### Embarked(승선한 항구)에서 약 0.2% 비율\n",
    "\n",
    "##### Age(나이)의 결측치는 평균 나이로 채우고, Cabin(객실번호)와 Embarked(승선한 항구)는 컬럼 제거"
   ]
  },
  {
   "cell_type": "markdown",
   "id": "650194a2-b76c-4092-9521-7c9894b13479",
   "metadata": {},
   "source": [
    "# 3. 결측치 제거"
   ]
  },
  {
   "cell_type": "markdown",
   "id": "ce076015-1535-4a1d-8e3e-1433de056ce9",
   "metadata": {},
   "source": [
    "#### Age(나이) 결측치 제거 (평균나이로 대체)"
   ]
  },
  {
   "cell_type": "code",
   "execution_count": 21,
   "id": "9d807f79-7aee-4b67-8940-897f98982257",
   "metadata": {},
   "outputs": [
    {
     "name": "stdout",
     "output_type": "stream",
     "text": [
      "결측치 개수(적용 전): 177\n",
      "결측치 개수(적용 후): 0\n",
      "평균 나이로 채움: 29.70\n",
      "0      22.000000\n",
      "1      38.000000\n",
      "2      26.000000\n",
      "3      35.000000\n",
      "4      35.000000\n",
      "         ...    \n",
      "886    27.000000\n",
      "887    19.000000\n",
      "888    29.699118\n",
      "889    26.000000\n",
      "890    32.000000\n",
      "Name: Age, Length: 891, dtype: float64\n"
     ]
    }
   ],
   "source": [
    "# 결측치 개수 확인 (적용 전)\n",
    "print(\"결측치 개수(적용 전):\", df[\"Age\"].isnull().sum())\n",
    "\n",
    "# 평균 나이 계산\n",
    "mean_age = df[\"Age\"].mean()\n",
    "\n",
    "# 결측치를 평균 나이로 채우기 \n",
    "df[\"Age\"] = df[\"Age\"].fillna(mean_age)  \n",
    "\n",
    "# 결측치 개수 확인 (적용 후)\n",
    "print(\"결측치 개수(적용 후):\", df[\"Age\"].isnull().sum())\n",
    "\n",
    "# 평균 나이 출력\n",
    "print(f\"평균 나이로 채움: {mean_age:.2f}\")\n",
    "\n",
    "print(df[\"Age\"])"
   ]
  },
  {
   "cell_type": "markdown",
   "id": "c286395d-5667-4ec0-a67b-e66696ba884f",
   "metadata": {},
   "source": [
    "#### Cabin(객실번호)와 Embarked(승선한 항구) 컬럼 제거는 5 단계에서 진행"
   ]
  },
  {
   "cell_type": "markdown",
   "id": "90080596-6dcb-4538-9775-9622ee2f1db0",
   "metadata": {},
   "source": [
    "# 4. 레이블 확인"
   ]
  },
  {
   "cell_type": "code",
   "execution_count": 13,
   "id": "57231a06-5d7c-4e69-a894-1d99dfc3643f",
   "metadata": {
    "scrolled": true
   },
   "outputs": [
    {
     "name": "stdout",
     "output_type": "stream",
     "text": [
      "Survived\n",
      "0    549\n",
      "1    342\n",
      "Name: count, dtype: int64\n",
      "Survived\n",
      "0    61.616162\n",
      "1    38.383838\n",
      "Name: proportion, dtype: float64\n"
     ]
    },
    {
     "data": {
      "image/png": "[encoded data removed]",
      "text/plain": [
       "<Figure size 640x480 with 1 Axes>"
      ]
     },
     "metadata": {},
     "output_type": "display_data"
    }
   ],
   "source": [
    "import pandas as pd\n",
    "import seaborn as sns\n",
    "import matplotlib.pyplot as plt\n",
    "\n",
    "# 1. 데이터 로딩\n",
    "url = \"https://raw.githubusercontent.com/MyungKyuYi/AI-class/main/titanic.csv\"\n",
    "df = pd.read_csv(url)\n",
    "\n",
    "# 2. 레이블 분포 확인\n",
    "print(df[\"Survived\"].value_counts())  # 클래스 개수 출력\n",
    "print(df[\"Survived\"].value_counts(normalize=True) * 100)  # 비율(%) 출력\n",
    "\n",
    "# 3. 시각화\n",
    "sns.countplot(x=\"Survived\", data=df)\n",
    "plt.title(\"Survival Distribution\")\n",
    "plt.xlabel(\"Survived (0: Dead, 1: Survived)\")\n",
    "plt.ylabel(\"Count\")\n",
    "plt.show()"
   ]
  },
  {
   "cell_type": "markdown",
   "id": "480db037-6377-4ab4-ad79-0b6d502871b0",
   "metadata": {},
   "source": [
    "# 5. 불필요한 컬럼 제거\n",
    "\n",
    "#### Name(이름), Ticket(티켓), Cabin(객실번호), Embarked(승선한 항구) 컬럼 제거"
   ]
  },
  {
   "cell_type": "code",
   "execution_count": 45,
   "id": "633fb4fb-69c7-447d-b02a-be0f7f4722dc",
   "metadata": {},
   "outputs": [
    {
     "name": "stdout",
     "output_type": "stream",
     "text": [
      "   PassengerId  Survived  Pclass  \\\n",
      "0            1         0       3   \n",
      "1            2         1       1   \n",
      "2            3         1       3   \n",
      "3            4         1       1   \n",
      "4            5         0       3   \n",
      "\n",
      "                                                Name     Sex   Age  SibSp  \\\n",
      "0                            Braund, Mr. Owen Harris    male  22.0      1   \n",
      "1  Cumings, Mrs. John Bradley (Florence Briggs Th...  female  38.0      1   \n",
      "2                             Heikkinen, Miss. Laina  female  26.0      0   \n",
      "3       Futrelle, Mrs. Jacques Heath (Lily May Peel)  female  35.0      1   \n",
      "4                           Allen, Mr. William Henry    male  35.0      0   \n",
      "\n",
      "   Parch            Ticket     Fare Cabin Embarked  \n",
      "0      0         A/5 21171   7.2500   NaN        S  \n",
      "1      0          PC 17599  71.2833   C85        C  \n",
      "2      0  STON/O2. 3101282   7.9250   NaN        S  \n",
      "3      0            113803  53.1000  C123        S  \n",
      "4      0            373450   8.0500   NaN        S  \n"
     ]
    }
   ],
   "source": [
    "print(df.head())"
   ]
  },
  {
   "cell_type": "code",
   "execution_count": 16,
   "id": "2b762d3f-7b56-44b3-b675-08a1ffd5ed59",
   "metadata": {},
   "outputs": [
    {
     "name": "stdout",
     "output_type": "stream",
     "text": [
      "   PassengerId  Survived  Pclass     Sex   Age  SibSp  Parch     Fare\n",
      "0            1         0       3    male  22.0      1      0   7.2500\n",
      "1            2         1       1  female  38.0      1      0  71.2833\n",
      "2            3         1       3  female  26.0      0      0   7.9250\n",
      "3            4         1       1  female  35.0      1      0  53.1000\n",
      "4            5         0       3    male  35.0      0      0   8.0500\n"
     ]
    }
   ],
   "source": [
    "# 삭제할 칼럼 지정 ('Cabin', 'Name', 'Ticket', 'Embarked' 삭제)\n",
    "columns_to_drop = [\"Name\", \"Ticket\", \"Cabin\", \"Embarked\"]\n",
    "df.drop(columns=columns_to_drop, inplace=True)\n",
    "\n",
    "# 변경된 데이터프레임 확인\n",
    "print(df.head())"
   ]
  },
  {
   "cell_type": "markdown",
   "id": "c9796e82-1413-4ae7-b987-41f0acbe661a",
   "metadata": {},
   "source": [
    "# 6. 인코딩\n",
    "\n",
    "#### 성별을 숫자로 바꿈( Male → 0, Female → 1 )"
   ]
  },
  {
   "cell_type": "code",
   "execution_count": 19,
   "id": "d17f9f3c-4666-4c74-9b14-2ac890bb5e4d",
   "metadata": {},
   "outputs": [
    {
     "name": "stdout",
     "output_type": "stream",
     "text": [
      "   PassengerId  Survived  Pclass  Sex   Age  SibSp  Parch     Fare\n",
      "0            1         0       3    0  22.0      1      0   7.2500\n",
      "1            2         1       1    1  38.0      1      0  71.2833\n",
      "2            3         1       3    1  26.0      0      0   7.9250\n",
      "3            4         1       1    1  35.0      1      0  53.1000\n",
      "4            5         0       3    0  35.0      0      0   8.0500\n",
      "0      22.0\n",
      "1      38.0\n",
      "2      26.0\n",
      "3      35.0\n",
      "4      35.0\n",
      "       ... \n",
      "886    27.0\n",
      "887    19.0\n",
      "888     NaN\n",
      "889    26.0\n",
      "890    32.0\n",
      "Name: Age, Length: 891, dtype: float64\n"
     ]
    }
   ],
   "source": [
    "# 성별 인코딩 (Male → 0, Female → 1)\n",
    "df[\"Sex\"] = df[\"Sex\"].map({'male': 0, 'female': 1})\n",
    "\n",
    "print(df.head())\n",
    "\n",
    "print(df[\"Age\"])"
   ]
  },
  {
   "cell_type": "markdown",
   "id": "ef38ed5a-c354-4e9c-8700-664b1262229a",
   "metadata": {},
   "source": [
    "# DT"
   ]
  },
  {
   "cell_type": "code",
   "execution_count": 23,
   "id": "b5877690-1714-4f81-b34d-6169b2815cc3",
   "metadata": {},
   "outputs": [],
   "source": [
    "import pandas as pd\n",
    "import numpy as np\n",
    "import seaborn as sns\n",
    "import matplotlib.pyplot as plt\n",
    "from sklearn.model_selection import train_test_split\n",
    "from sklearn.tree import DecisionTreeClassifier\n",
    "from sklearn.metrics import confusion_matrix, accuracy_score"
   ]
  },
  {
   "cell_type": "code",
   "execution_count": 24,
   "id": "cef99b19-8b7c-4851-b910-f92cd8fed0f5",
   "metadata": {},
   "outputs": [
    {
     "name": "stdout",
     "output_type": "stream",
     "text": [
      "   PassengerId  Survived  Pclass  Sex   Age  SibSp  Parch     Fare\n",
      "0            1         0       3    0  22.0      1      0   7.2500\n",
      "1            2         1       1    1  38.0      1      0  71.2833\n",
      "2            3         1       3    1  26.0      0      0   7.9250\n",
      "3            4         1       1    1  35.0      1      0  53.1000\n",
      "4            5         0       3    0  35.0      0      0   8.0500\n"
     ]
    }
   ],
   "source": [
    "print(df.head())"
   ]
  },
  {
   "cell_type": "code",
   "execution_count": 27,
   "id": "c589bc4f-fa29-4c64-882d-d6cbd9090315",
   "metadata": {},
   "outputs": [
    {
     "name": "stdout",
     "output_type": "stream",
     "text": [
      "   PassengerId  Pclass  Sex   Age  SibSp  Parch     Fare\n",
      "0            1       3    0  22.0      1      0   7.2500\n",
      "1            2       1    1  38.0      1      0  71.2833\n",
      "2            3       3    1  26.0      0      0   7.9250\n",
      "3            4       1    1  35.0      1      0  53.1000\n",
      "4            5       3    0  35.0      0      0   8.0500\n",
      "0    0\n",
      "1    1\n",
      "2    1\n",
      "3    1\n",
      "4    0\n",
      "Name: Survived, dtype: int64\n"
     ]
    }
   ],
   "source": [
    "# 입력(X)와 타깃(y) 분리\n",
    "X = df.drop(columns=[\"Survived\"])  # 'Survived' 컬럼 제외 (입력 데이터)\n",
    "y = df[\"Survived\"]  # 'Survived' 컬럼만 저장 (타깃 데이터)\n",
    "\n",
    "# 확인\n",
    "print(X.head())  # 입력 데이터\n",
    "print(y.head())  # 레이블 (타깃 변수)"
   ]
  },
  {
   "cell_type": "code",
   "execution_count": 29,
   "id": "53190c41-c799-4295-a373-602ea08a2212",
   "metadata": {},
   "outputs": [],
   "source": [
    "X_train, X_test, y_train, y_test = train_test_split(X, y,test_size=0.25,random_state=0)"
   ]
  },
  {
   "cell_type": "code",
   "execution_count": 31,
   "id": "c5c1668b-5c2d-4fb0-af31-99047b574348",
   "metadata": {},
   "outputs": [],
   "source": [
    "# DT 모델 생성 및 학습\n",
    "dt_model = DecisionTreeClassifier(random_state=42)\n",
    "dt_model.fit(X_train, y_train)\n",
    "\n",
    "# 예측 수행\n",
    "pred_dt = dt_model.predict(X_test)"
   ]
  },
  {
   "cell_type": "code",
   "execution_count": 158,
   "id": "cac0af4f-63f8-4d4e-978d-275a9474ed94",
   "metadata": {},
   "outputs": [
    {
     "name": "stdout",
     "output_type": "stream",
     "text": [
      "\n",
      "📌 [1] 예측값 vs 실제값 비교\n",
      "     실제값  예측값\n",
      "0      0    0\n",
      "1      0    0\n",
      "2      0    0\n",
      "3      1    1\n",
      "4      1    1\n",
      "..   ...  ...\n",
      "218    0    0\n",
      "219    1    1\n",
      "220    0    0\n",
      "221    1    1\n",
      "222    1    0\n",
      "\n",
      "[223 rows x 2 columns]\n",
      "\n",
      "📌 [2] accuracy 출력\n",
      "모델 정확도: 0.7668\n",
      "\n",
      "📌 [3] confusion matrix 출력\n",
      "[[112  27]\n",
      " [ 25  59]]\n"
     ]
    }
   ],
   "source": [
    "print(\"\\n📌 [1] 예측값 vs 실제값 비교\")\n",
    "result_df = pd.DataFrame({'실제값': y_test.values, '예측값': pred_dt})\n",
    "print(result_df)\n",
    "\n",
    "print(\"\\n📌 [2] accuracy 출력\")\n",
    "accuracy = accuracy_score(y_test, pred_dt)\n",
    "print(f\"DT 정확도: {accuracy:.4f}\")\n",
    "\n",
    "print(\"\\n📌 [3] confusion matrix 출력\") \n",
    "print(confusion_matrix(y_test, pred_dt))\n"
   ]
  },
  {
   "cell_type": "markdown",
   "id": "042e3596-a91e-4ce0-90ec-58df0e7660b4",
   "metadata": {},
   "source": [
    "# RF"
   ]
  },
  {
   "cell_type": "code",
   "execution_count": 161,
   "id": "a77aa43e-81a3-4088-b512-0a06e49237e3",
   "metadata": {},
   "outputs": [],
   "source": [
    "import pandas as pd\n",
    "import numpy as np\n",
    "import matplotlib.pyplot as plt\n",
    "import seaborn as sns\n",
    "from sklearn.ensemble import RandomForestClassifier\n",
    "from sklearn.model_selection import train_test_split\n",
    "from sklearn.metrics import accuracy_score, classification_report, confusion_matrix"
   ]
  },
  {
   "cell_type": "code",
   "execution_count": 163,
   "id": "b90e2d96-9d45-488b-a6c0-c0ab88cc87dc",
   "metadata": {},
   "outputs": [
    {
     "name": "stdout",
     "output_type": "stream",
     "text": [
      "   PassengerId  Pclass  Sex   Age  SibSp  Parch     Fare\n",
      "0            1       3    0  22.0      1      0   7.2500\n",
      "1            2       1    1  38.0      1      0  71.2833\n",
      "2            3       3    1  26.0      0      0   7.9250\n",
      "3            4       1    1  35.0      1      0  53.1000\n",
      "4            5       3    0  35.0      0      0   8.0500\n",
      "0    0\n",
      "1    1\n",
      "2    1\n",
      "3    1\n",
      "4    0\n",
      "Name: Survived, dtype: int64\n"
     ]
    }
   ],
   "source": [
    "# 입력(X)와 타깃(y) 분리\n",
    "X = df.drop(columns=[\"Survived\"])  # 'Survived' 컬럼 제외 (입력 데이터)\n",
    "y = df[\"Survived\"]  # 'Survived' 컬럼만 저장 (타깃 데이터)\n",
    "\n",
    "# 확인\n",
    "print(X.head())  # 입력 데이터\n",
    "print(y.head())  # 레이블 (타깃 변수)"
   ]
  },
  {
   "cell_type": "code",
   "execution_count": 165,
   "id": "cc561cc0-1ee4-4a0f-8b8d-801e5c4a5179",
   "metadata": {},
   "outputs": [],
   "source": [
    "X_train, X_test, y_train, y_test = train_test_split(X, y,test_size=0.25,random_state=0)"
   ]
  },
  {
   "cell_type": "code",
   "execution_count": 167,
   "id": "cea3491d-fe96-46ab-9d27-8c6813dd2a7d",
   "metadata": {},
   "outputs": [],
   "source": [
    "# 4. 랜덤 포레스트 모델 생성 및 학습\n",
    "rf_model = RandomForestClassifier(n_estimators=100, random_state=42)\n",
    "rf_model.fit(X_train, y_train)\n",
    "\n",
    "# 5. 예측 수행\n",
    "pred_rf = rf_model.predict(X_test)"
   ]
  },
  {
   "cell_type": "code",
   "execution_count": 169,
   "id": "3e2b6e1e-24e2-46f1-9877-391bda17f3f4",
   "metadata": {},
   "outputs": [
    {
     "name": "stdout",
     "output_type": "stream",
     "text": [
      "\n",
      "📌 [1] 예측값 vs 실제값 비교\n",
      "     실제값  예측값\n",
      "0      0    0\n",
      "1      0    0\n",
      "2      0    0\n",
      "3      1    1\n",
      "4      1    1\n",
      "..   ...  ...\n",
      "218    0    0\n",
      "219    1    1\n",
      "220    0    0\n",
      "221    1    1\n",
      "222    1    1\n",
      "\n",
      "[223 rows x 2 columns]\n",
      "\n",
      "📌 [2] 정확도 출력\n",
      "랜덤 포레스트 정확도: 0.8341\n",
      "\n",
      "📌 [3] confusion matrix 출력\n",
      "[[124  15]\n",
      " [ 22  62]]\n"
     ]
    }
   ],
   "source": [
    "# 6. 결과 출력\n",
    "print(\"\\n📌 [1] 예측값 vs 실제값 비교\")\n",
    "result_rf = pd.DataFrame({'실제값': y_test.values, '예측값': pred_rf})\n",
    "print(result_rf)\n",
    "\n",
    "print(\"\\n📌 [2] 정확도 출력\")\n",
    "accuracy = accuracy_score(y_test, pred_rf)\n",
    "print(f\"RF 정확도: {accuracy:.4f}\")\n",
    "\n",
    "print(\"\\n📌 [3] confusion matrix 출력\") \n",
    "print(confusion_matrix(y_test, pred_rf))"
   ]
  },
  {
   "cell_type": "markdown",
   "id": "4fb2e1a7-1f94-4302-bc7b-a127b3078970",
   "metadata": {},
   "source": [
    "# SVM"
   ]
  },
  {
   "cell_type": "code",
   "execution_count": 172,
   "id": "e652e6cd-44ba-49ab-973b-a997c03c91a6",
   "metadata": {},
   "outputs": [],
   "source": [
    "import pandas as pd\n",
    "import numpy as np\n",
    "import matplotlib.pyplot as plt\n",
    "import seaborn as sns\n",
    "from sklearn.svm import SVC\n",
    "from sklearn.metrics import accuracy_score, classification_report, confusion_matrix"
   ]
  },
  {
   "cell_type": "code",
   "execution_count": 174,
   "id": "32d631b1-066f-4e30-8857-71c25fe4c0db",
   "metadata": {},
   "outputs": [
    {
     "name": "stdout",
     "output_type": "stream",
     "text": [
      "   PassengerId  Pclass  Sex   Age  SibSp  Parch     Fare\n",
      "0            1       3    0  22.0      1      0   7.2500\n",
      "1            2       1    1  38.0      1      0  71.2833\n",
      "2            3       3    1  26.0      0      0   7.9250\n",
      "3            4       1    1  35.0      1      0  53.1000\n",
      "4            5       3    0  35.0      0      0   8.0500\n",
      "0    0\n",
      "1    1\n",
      "2    1\n",
      "3    1\n",
      "4    0\n",
      "Name: Survived, dtype: int64\n"
     ]
    }
   ],
   "source": [
    "# 입력(X)와 타깃(y) 분리\n",
    "X = df.drop(columns=[\"Survived\"])  # 'Survived' 컬럼 제외 (입력 데이터)\n",
    "y = df[\"Survived\"]  # 'Survived' 컬럼만 저장 (타깃 데이터)\n",
    "\n",
    "# 확인\n",
    "print(X.head())  # 입력 데이터\n",
    "print(y.head())  # 레이블 (타깃 변수)"
   ]
  },
  {
   "cell_type": "code",
   "execution_count": 176,
   "id": "704eb1f5-080d-4ecd-9429-4749c0ab7be4",
   "metadata": {},
   "outputs": [],
   "source": [
    "X_train, X_test, y_train, y_test = train_test_split(X, y,test_size=0.25,random_state=0)"
   ]
  },
  {
   "cell_type": "code",
   "execution_count": 178,
   "id": "14e58baf-d67d-49ca-a1ef-798ea14d06bb",
   "metadata": {},
   "outputs": [],
   "source": [
    "# 1. SVM 모델 생성 및 학습\n",
    "svm_model = SVC(kernel=\"linear\", random_state=42)  # 선형 커널 사용\n",
    "svm_model.fit(X_train, y_train)\n",
    "\n",
    "# 2. 예측\n",
    "y_pred_svm = svm_model.predict(X_test)"
   ]
  },
  {
   "cell_type": "code",
   "execution_count": 180,
   "id": "10bc4687-6caa-409c-991a-f2ca0ceaafa4",
   "metadata": {},
   "outputs": [
    {
     "name": "stdout",
     "output_type": "stream",
     "text": [
      "\n",
      "📌 [1] 예측값 vs 실제값 비교\n",
      "     실제값  예측값\n",
      "0      0    0\n",
      "1      0    0\n",
      "2      0    0\n",
      "3      1    1\n",
      "4      1    1\n",
      "..   ...  ...\n",
      "218    0    1\n",
      "219    1    1\n",
      "220    0    0\n",
      "221    1    1\n",
      "222    1    1\n",
      "\n",
      "[223 rows x 2 columns]\n",
      "\n",
      "📌 [2] 정확도 출력\n",
      "랜덤 포레스트 정확도: 0.7803\n",
      "\n",
      "📌 [3] confusion matrix 출력\n",
      "[[115  24]\n",
      " [ 25  59]]\n"
     ]
    }
   ],
   "source": [
    "# 6. 결과 출력\n",
    "print(\"\\n📌 [1] 예측값 vs 실제값 비교\")\n",
    "result_svm = pd.DataFrame({'실제값': y_test.values, '예측값': y_pred_svm})\n",
    "print(result_svm)\n",
    "\n",
    "print(\"\\n📌 [2] 정확도 출력\")\n",
    "accuracy = accuracy_score(y_test, y_pred_svm)\n",
    "print(f\"SVM 정확도: {accuracy:.4f}\")\n",
    "\n",
    "print(\"\\n📌 [3] confusion matrix 출력\") \n",
    "print(confusion_matrix(y_test, y_pred_svm))"
   ]
  },
  {
   "cell_type": "markdown",
   "id": "2e702637-8b55-4d18-8e5c-001208d9f0e0",
   "metadata": {},
   "source": [
    "# LR"
   ]
  },
  {
   "cell_type": "code",
   "execution_count": 183,
   "id": "7c8b8464-197b-4e6a-be5c-ec6e1dc8ca4a",
   "metadata": {},
   "outputs": [],
   "source": [
    "import pandas as pd\n",
    "import numpy as np\n",
    "import matplotlib.pyplot as plt\n",
    "import seaborn as sns\n",
    "from sklearn.linear_model import LogisticRegression\n",
    "from sklearn.model_selection import train_test_split\n",
    "from sklearn.metrics import accuracy_score, classification_report, confusion_matrix"
   ]
  },
  {
   "cell_type": "code",
   "execution_count": 185,
   "id": "fe40a5a9-7b7a-48fa-8872-68c9f1620702",
   "metadata": {},
   "outputs": [
    {
     "name": "stdout",
     "output_type": "stream",
     "text": [
      "   PassengerId  Pclass  Sex   Age  SibSp  Parch     Fare\n",
      "0            1       3    0  22.0      1      0   7.2500\n",
      "1            2       1    1  38.0      1      0  71.2833\n",
      "2            3       3    1  26.0      0      0   7.9250\n",
      "3            4       1    1  35.0      1      0  53.1000\n",
      "4            5       3    0  35.0      0      0   8.0500\n",
      "0    0\n",
      "1    1\n",
      "2    1\n",
      "3    1\n",
      "4    0\n",
      "Name: Survived, dtype: int64\n"
     ]
    }
   ],
   "source": [
    "# 입력(X)와 타깃(y) 분리\n",
    "X = df.drop(columns=[\"Survived\"])  # 'Survived' 컬럼 제외 (입력 데이터)\n",
    "y = df[\"Survived\"]  # 'Survived' 컬럼만 저장 (타깃 데이터)\n",
    "\n",
    "# 확인\n",
    "print(X.head())  # 입력 데이터\n",
    "print(y.head())  # 레이블 (타깃 변수)"
   ]
  },
  {
   "cell_type": "code",
   "execution_count": 187,
   "id": "349b2460-b633-4b8c-adbf-da981ed38fd9",
   "metadata": {},
   "outputs": [],
   "source": [
    "X_train, X_test, y_train, y_test = train_test_split(X, y,test_size=0.25,random_state=0)"
   ]
  },
  {
   "cell_type": "code",
   "execution_count": 194,
   "id": "fd558539-22f7-4aed-aae5-8414185192e0",
   "metadata": {},
   "outputs": [],
   "source": [
    "# 4. 로지스틱 회귀 모델 생성 및 학습\n",
    "lr_model = LogisticRegression(max_iter=200, random_state=42)\n",
    "lr_model.fit(X_train, y_train)\n",
    "\n",
    "# 5. 예측 수행\n",
    "y_pred_lr = lr_model.predict(X_test)"
   ]
  },
  {
   "cell_type": "code",
   "execution_count": 196,
   "id": "0fba31bd-b3d2-44c8-ae24-afd3e2f7c774",
   "metadata": {},
   "outputs": [
    {
     "name": "stdout",
     "output_type": "stream",
     "text": [
      "\n",
      "📌 [1] 예측값 vs 실제값 비교\n",
      "     실제값  예측값\n",
      "0      0    0\n",
      "1      0    0\n",
      "2      0    0\n",
      "3      1    1\n",
      "4      1    1\n",
      "..   ...  ...\n",
      "218    0    0\n",
      "219    1    1\n",
      "220    0    0\n",
      "221    1    1\n",
      "222    1    1\n",
      "\n",
      "[223 rows x 2 columns]\n",
      "\n",
      "📌 [2] 정확도 출력\n",
      "LR 정확도: 0.7982\n",
      "\n",
      "📌 [3] confusion matrix 출력\n",
      "[[119  20]\n",
      " [ 25  59]]\n"
     ]
    }
   ],
   "source": [
    "# 6. 결과 출력\n",
    "print(\"\\n📌 [1] 예측값 vs 실제값 비교\")\n",
    "result_lr = pd.DataFrame({'실제값': y_test.values, '예측값': y_pred_lr})\n",
    "print(result_lr)\n",
    "\n",
    "print(\"\\n📌 [2] 정확도 출력\")\n",
    "accuracy = accuracy_score(y_test, y_pred_lr)\n",
    "print(f\"LR 정확도: {accuracy:.4f}\")\n",
    "\n",
    "print(\"\\n📌 [3] confusion matrix 출력\") \n",
    "print(confusion_matrix(y_test, y_pred_lr))"
   ]
  },
  {
   "cell_type": "markdown",
   "id": "e2fe1c85-c6b9-4ba1-a4bf-626edc617a0a",
   "metadata": {},
   "source": [
    "# KNN"
   ]
  },
  {
   "cell_type": "code",
   "execution_count": 34,
   "id": "f61d972c-4c75-4f37-8483-c98a3a9a6d79",
   "metadata": {},
   "outputs": [],
   "source": [
    "import pandas as pd\n",
    "import numpy as np\n",
    "from sklearn.model_selection import train_test_split\n",
    "from sklearn.preprocessing import StandardScaler\n",
    "from sklearn.impute import SimpleImputer\n",
    "from sklearn.neighbors import KNeighborsClassifier\n",
    "from sklearn.metrics import accuracy_score"
   ]
  },
  {
   "cell_type": "code",
   "execution_count": 36,
   "id": "a5792bb1-3476-477f-a2aa-28d72dd8f2b7",
   "metadata": {},
   "outputs": [
    {
     "name": "stdout",
     "output_type": "stream",
     "text": [
      "   PassengerId  Pclass  Sex   Age  SibSp  Parch     Fare\n",
      "0            1       3    0  22.0      1      0   7.2500\n",
      "1            2       1    1  38.0      1      0  71.2833\n",
      "2            3       3    1  26.0      0      0   7.9250\n",
      "3            4       1    1  35.0      1      0  53.1000\n",
      "4            5       3    0  35.0      0      0   8.0500\n",
      "0    0\n",
      "1    1\n",
      "2    1\n",
      "3    1\n",
      "4    0\n",
      "Name: Survived, dtype: int64\n"
     ]
    }
   ],
   "source": [
    "# 입력(X)와 타깃(y) 분리\n",
    "X = df.drop(columns=[\"Survived\"])  # 'Survived' 컬럼 제외 (입력 데이터)\n",
    "y = df[\"Survived\"]  # 'Survived' 컬럼만 저장 (타깃 데이터)\n",
    "\n",
    "# 확인\n",
    "print(X.head())  # 입력 데이터\n",
    "print(y.head())  # 레이블 (타깃 변수)"
   ]
  },
  {
   "cell_type": "code",
   "execution_count": 38,
   "id": "01916cea-96f1-404e-9931-06e48ae90a04",
   "metadata": {},
   "outputs": [],
   "source": [
    "X_train, X_test, y_train, y_test = train_test_split(X, y,test_size=0.25,random_state=0)"
   ]
  },
  {
   "cell_type": "code",
   "execution_count": 40,
   "id": "8da153f2-2f12-4c02-b485-a994a4d7c747",
   "metadata": {},
   "outputs": [
    {
     "name": "stdout",
     "output_type": "stream",
     "text": [
      "KNN 모델 정확도: 0.7937\n"
     ]
    }
   ],
   "source": [
    "# 데이터 스케일링\n",
    "scaler = StandardScaler()\n",
    "X_train = scaler.fit_transform(X_train)\n",
    "X_test = scaler.transform(X_test)\n",
    "\n",
    "# KNN 모델 생성 및 학습 (k=5)\n",
    "knn = KNeighborsClassifier(n_neighbors=5)\n",
    "knn.fit(X_train, y_train)\n",
    "\n",
    "# 예측 및 정확도 평가\n",
    "y_pred_knn = knn.predict(X_test)\n",
    "accuracy = accuracy_score(y_test, y_pred_knn)\n"
   ]
  },
  {
   "cell_type": "code",
   "execution_count": 42,
   "id": "8ef6661e-4aa9-4ac8-894c-384e45e91280",
   "metadata": {},
   "outputs": [
    {
     "name": "stdout",
     "output_type": "stream",
     "text": [
      "\n",
      "📌 [1] 예측값 vs 실제값 비교\n",
      "     실제값  예측값\n",
      "0      0    0\n",
      "1      0    0\n",
      "2      0    0\n",
      "3      1    1\n",
      "4      1    1\n",
      "..   ...  ...\n",
      "218    0    0\n",
      "219    1    1\n",
      "220    0    0\n",
      "221    1    1\n",
      "222    1    0\n",
      "\n",
      "[223 rows x 2 columns]\n",
      "\n",
      "📌 [2] 정확도 출력\n",
      "KNN 정확도: 0.7937\n",
      "\n",
      "📌 [3] confusion matrix 출력\n",
      "[[117  22]\n",
      " [ 24  60]]\n"
     ]
    }
   ],
   "source": [
    "print(\"\\n📌 [1] 예측값 vs 실제값 비교\")\n",
    "result_knn = pd.DataFrame({'실제값': y_test.values, '예측값': y_pred_knn})\n",
    "print(result_knn)\n",
    "\n",
    "print(\"\\n📌 [2] 정확도 출력\")\n",
    "accuracy = accuracy_score(y_test, y_pred_knn)\n",
    "print(f\"KNN 정확도: {accuracy:.4f}\")\n",
    "\n",
    "print(\"\\n📌 [3] confusion matrix 출력\") \n",
    "print(confusion_matrix(y_test, y_pred_knn))"
   ]
  },
  {
   "cell_type": "code",
   "execution_count": null,
   "id": "c08dfe49-eb92-4ac1-beeb-9daa846a305b",
   "metadata": {},
   "outputs": [],
   "source": []
  }
 ],
 "metadata": {
  "kernelspec": {
   "display_name": "Python [conda env:base] *",
   "language": "python",
   "name": "conda-base-py"
  },
  "language_info": {
   "codemirror_mode": {
    "name": "ipython",
    "version": 3
   },
   "file_extension": ".py",
   "mimetype": "text/x-python",
   "name": "python",
   "nbconvert_exporter": "python",
   "pygments_lexer": "ipython3",
   "version": "3.12.7"
  }
 },
 "nbformat": 4,
 "nbformat_minor": 5
}
