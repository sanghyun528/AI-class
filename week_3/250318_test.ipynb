{
 "cells": [
  {
   "cell_type": "code",
   "execution_count": 1,
   "id": "380fd9cb-f3e5-4f98-aaf8-bb200b92dc71",
   "metadata": {},
   "outputs": [
    {
     "name": "stdout",
     "output_type": "stream",
     "text": [
      "   vhigh vhigh.1  2 2.1  small   low  unacc\n",
      "0  vhigh   vhigh  2   2  small   med  unacc\n",
      "1  vhigh   vhigh  2   2  small  high  unacc\n",
      "2  vhigh   vhigh  2   2    med   low  unacc\n",
      "3  vhigh   vhigh  2   2    med   med  unacc\n",
      "4  vhigh   vhigh  2   2    med  high  unacc\n"
     ]
    }
   ],
   "source": [
    "import pandas as pd\n",
    "import numpy as np\n",
    "\n",
    "file_path = \"C:/Ai-class/car_evaluation.csv\"  \n",
    "df = pd.read_csv(file_path)\n",
    "\n",
    "# 데이터프레임 확인\n",
    "print(df.head())"
   ]
  },
  {
   "cell_type": "code",
   "execution_count": 3,
   "id": "f6633e76-d731-4a1f-9da8-3eab8e1a723e",
   "metadata": {},
   "outputs": [
    {
     "name": "stdout",
     "output_type": "stream",
     "text": [
      "         결측치 개수  결측치 비율(%)\n",
      "vhigh         0        0.0\n",
      "vhigh.1       0        0.0\n",
      "2             0        0.0\n",
      "2.1           0        0.0\n",
      "small         0        0.0\n",
      "low           0        0.0\n",
      "unacc         0        0.0\n"
     ]
    }
   ],
   "source": [
    "# 각 열별 결측치 개수 확인\n",
    "missing_values = df.isnull().sum()\n",
    "\n",
    "# 결측치 비율(%) 계산\n",
    "missing_ratio = (df.isnull().sum() / len(df)) * 100\n",
    "\n",
    "# 결과 출력\n",
    "missing_df = pd.DataFrame({\"결측치 개수\": missing_values, \"결측치 비율(%)\": missing_ratio})\n",
    "print(missing_df)"
   ]
  },
  {
   "cell_type": "code",
   "execution_count": 5,
   "id": "5dd29839-fb4b-4078-8d4e-0ee8263085a9",
   "metadata": {},
   "outputs": [
    {
     "name": "stdout",
     "output_type": "stream",
     "text": [
      "unacc\n",
      "unacc    1209\n",
      "acc       384\n",
      "good       69\n",
      "vgood      65\n",
      "Name: count, dtype: int64\n",
      "unacc\n",
      "unacc    70.005790\n",
      "acc      22.235090\n",
      "good      3.995368\n",
      "vgood     3.763752\n",
      "Name: proportion, dtype: float64\n"
     ]
    }
   ],
   "source": [
    "import pandas as pd\n",
    "import seaborn as sns\n",
    "import matplotlib.pyplot as plt\n",
    "\n",
    "print(df[\"unacc\"].value_counts())  # 클래스 개수 출력\n",
    "print(df[\"unacc\"].value_counts(normalize=True) * 100)  # 비율(%) 출력"
   ]
  },
  {
   "cell_type": "code",
   "execution_count": 17,
   "id": "92a712e1-73de-4605-aff5-15ee89427837",
   "metadata": {},
   "outputs": [
    {
     "name": "stdout",
     "output_type": "stream",
     "text": [
      "   vhigh  vhigh.1  2  2.1  small  low  unacc\n",
      "0      3        3  0    0      2    2      2\n",
      "1      3        3  0    0      2    0      2\n",
      "2      3        3  0    0      1    1      2\n",
      "3      3        3  0    0      1    2      2\n",
      "4      3        3  0    0      1    0      2\n"
     ]
    }
   ],
   "source": [
    "from sklearn.preprocessing import LabelEncoder\n",
    "\n",
    "# 모든 범주형 컬럼을 Label Encoding\n",
    "label_encoders = {}\n",
    "for col in df.columns:\n",
    "    le = LabelEncoder()\n",
    "    df[col] = le.fit_transform(df[col])\n",
    "    label_encoders[col] = le  # 나중에 역변환할 때 사용 가능\n",
    "\n",
    "# 변환된 데이터 확인\n",
    "print(df.head())"
   ]
  },
  {
   "cell_type": "code",
   "execution_count": 19,
   "id": "f7f96870-feea-4d55-9a16-bf6220c1f91d",
   "metadata": {},
   "outputs": [],
   "source": [
    "import pandas as pd\n",
    "import numpy as np\n",
    "import seaborn as sns\n",
    "import matplotlib.pyplot as plt\n",
    "from sklearn.model_selection import train_test_split\n",
    "from sklearn.tree import DecisionTreeClassifier\n",
    "from sklearn.metrics import confusion_matrix, accuracy_score"
   ]
  },
  {
   "cell_type": "code",
   "execution_count": 21,
   "id": "49beb24a-6b01-4f9c-bc95-ad66b61ccab8",
   "metadata": {},
   "outputs": [
    {
     "name": "stdout",
     "output_type": "stream",
     "text": [
      "   vhigh  vhigh.1  2  2.1  small  low  unacc\n",
      "0      3        3  0    0      2    2      2\n",
      "1      3        3  0    0      2    0      2\n",
      "2      3        3  0    0      1    1      2\n",
      "3      3        3  0    0      1    2      2\n",
      "4      3        3  0    0      1    0      2\n"
     ]
    }
   ],
   "source": [
    "print(df.head())"
   ]
  },
  {
   "cell_type": "code",
   "execution_count": 23,
   "id": "10594ec0-9c9d-48d4-bab9-303c26d3db0d",
   "metadata": {},
   "outputs": [
    {
     "name": "stdout",
     "output_type": "stream",
     "text": [
      "   vhigh  vhigh.1  2  2.1  small  low\n",
      "0      3        3  0    0      2    2\n",
      "1      3        3  0    0      2    0\n",
      "2      3        3  0    0      1    1\n",
      "3      3        3  0    0      1    2\n",
      "4      3        3  0    0      1    0\n",
      "0    2\n",
      "1    2\n",
      "2    2\n",
      "3    2\n",
      "4    2\n",
      "Name: unacc, dtype: int32\n"
     ]
    }
   ],
   "source": [
    "# 입력(X)와 타깃(y) 분리\n",
    "X = df.drop(columns=[\"unacc\"])  # 'Survived' 컬럼 제외 (입력 데이터)\n",
    "y = df[\"unacc\"]  # 'Survived' 컬럼만 저장 (타깃 데이터)\n",
    "\n",
    "# 확인\n",
    "print(X.head())  # 입력 데이터\n",
    "print(y.head())  # 레이블 (타깃 변수)"
   ]
  },
  {
   "cell_type": "code",
   "execution_count": 25,
   "id": "bfec5ca0-5b41-46d4-b7ab-e48e64fa67b5",
   "metadata": {},
   "outputs": [],
   "source": [
    "X_train, X_test, y_train, y_test = train_test_split(X, y,test_size=0.25,random_state=0)"
   ]
  },
  {
   "cell_type": "code",
   "execution_count": 27,
   "id": "4d4caa8a-5883-4829-a335-bbabe63cfff5",
   "metadata": {},
   "outputs": [],
   "source": [
    "# DT 모델 생성 및 학습\n",
    "dt_model = DecisionTreeClassifier(random_state=42)\n",
    "dt_model.fit(X_train, y_train)\n",
    "\n",
    "# 예측 수행\n",
    "pred_dt = dt_model.predict(X_test)"
   ]
  },
  {
   "cell_type": "code",
   "execution_count": 29,
   "id": "fa92f7c0-35a9-4323-aa24-5cf32280a57e",
   "metadata": {},
   "outputs": [
    {
     "name": "stdout",
     "output_type": "stream",
     "text": [
      "\n",
      "📌 [1] 예측값 vs 실제값 비교\n",
      "     실제값  예측값\n",
      "0      0    0\n",
      "1      2    2\n",
      "2      2    2\n",
      "3      2    2\n",
      "4      2    2\n",
      "..   ...  ...\n",
      "427    0    0\n",
      "428    2    2\n",
      "429    2    2\n",
      "430    0    0\n",
      "431    2    2\n",
      "\n",
      "[432 rows x 2 columns]\n",
      "\n",
      "📌 [2] accuracy 출력\n",
      "DT 정확도: 0.9676\n",
      "\n",
      "📌 [3] confusion matrix 출력\n",
      "[[ 90   0   6   0]\n",
      " [  3  14   0   1]\n",
      " [  1   0 297   0]\n",
      " [  3   0   0  17]]\n"
     ]
    }
   ],
   "source": [
    "print(\"\\n📌 [1] 예측값 vs 실제값 비교\")\n",
    "result_df = pd.DataFrame({'실제값': y_test.values, '예측값': pred_dt})\n",
    "print(result_df)\n",
    "\n",
    "print(\"\\n📌 [2] accuracy 출력\")\n",
    "accuracy = accuracy_score(y_test, pred_dt)\n",
    "print(f\"DT 정확도: {accuracy:.4f}\")\n",
    "\n",
    "print(\"\\n📌 [3] confusion matrix 출력\") \n",
    "print(confusion_matrix(y_test, pred_dt))"
   ]
  },
  {
   "cell_type": "code",
   "execution_count": 31,
   "id": "67f85632-bbb7-4e12-84c4-54852755a7cf",
   "metadata": {},
   "outputs": [],
   "source": [
    "import pandas as pd\n",
    "import numpy as np\n",
    "import matplotlib.pyplot as plt\n",
    "import seaborn as sns\n",
    "from sklearn.ensemble import RandomForestClassifier\n",
    "from sklearn.model_selection import train_test_split\n",
    "from sklearn.metrics import accuracy_score, classification_report, confusion_matrix"
   ]
  },
  {
   "cell_type": "code",
   "execution_count": 33,
   "id": "ff2d5ebf-356f-4e01-a97d-c5155e2fe26f",
   "metadata": {},
   "outputs": [
    {
     "name": "stdout",
     "output_type": "stream",
     "text": [
      "   vhigh  vhigh.1  2  2.1  small  low\n",
      "0      3        3  0    0      2    2\n",
      "1      3        3  0    0      2    0\n",
      "2      3        3  0    0      1    1\n",
      "3      3        3  0    0      1    2\n",
      "4      3        3  0    0      1    0\n",
      "0    2\n",
      "1    2\n",
      "2    2\n",
      "3    2\n",
      "4    2\n",
      "Name: unacc, dtype: int32\n"
     ]
    }
   ],
   "source": [
    "# 입력(X)와 타깃(y) 분리\n",
    "X = df.drop(columns=[\"unacc\"])  # 'Survived' 컬럼 제외 (입력 데이터)\n",
    "y = df[\"unacc\"]  # 'Survived' 컬럼만 저장 (타깃 데이터)\n",
    "\n",
    "# 확인\n",
    "print(X.head())  # 입력 데이터\n",
    "print(y.head())  # 레이블 (타깃 변수)"
   ]
  },
  {
   "cell_type": "code",
   "execution_count": 35,
   "id": "04274ec7-933e-4a93-9ec9-00e1a509d599",
   "metadata": {},
   "outputs": [],
   "source": [
    "X_train, X_test, y_train, y_test = train_test_split(X, y,test_size=0.25,random_state=0)"
   ]
  },
  {
   "cell_type": "code",
   "execution_count": 37,
   "id": "02a9ddef-9417-442c-9ea9-60216b7e61fd",
   "metadata": {},
   "outputs": [],
   "source": [
    "# 4. 랜덤 포레스트 모델 생성 및 학습\n",
    "rf_model = RandomForestClassifier(n_estimators=100, random_state=42)\n",
    "rf_model.fit(X_train, y_train)\n",
    "\n",
    "# 5. 예측 수행\n",
    "pred_rf = rf_model.predict(X_test)"
   ]
  },
  {
   "cell_type": "code",
   "execution_count": 39,
   "id": "51097461-b663-48df-ad46-a17911774214",
   "metadata": {},
   "outputs": [
    {
     "name": "stdout",
     "output_type": "stream",
     "text": [
      "\n",
      "📌 [1] 예측값 vs 실제값 비교\n",
      "     실제값  예측값\n",
      "0      0    0\n",
      "1      2    2\n",
      "2      2    2\n",
      "3      2    2\n",
      "4      2    2\n",
      "..   ...  ...\n",
      "427    0    0\n",
      "428    2    2\n",
      "429    2    2\n",
      "430    0    0\n",
      "431    2    2\n",
      "\n",
      "[432 rows x 2 columns]\n",
      "\n",
      "📌 [2] 정확도 출력\n",
      "RF 정확도: 0.9722\n",
      "\n",
      "📌 [3] confusion matrix 출력\n",
      "[[ 89   1   6   0]\n",
      " [  3  13   0   2]\n",
      " [  0   0 298   0]\n",
      " [  0   0   0  20]]\n"
     ]
    }
   ],
   "source": [
    "# 6. 결과 출력\n",
    "print(\"\\n📌 [1] 예측값 vs 실제값 비교\")\n",
    "result_rf = pd.DataFrame({'실제값': y_test.values, '예측값': pred_rf})\n",
    "print(result_rf)\n",
    "\n",
    "print(\"\\n📌 [2] 정확도 출력\")\n",
    "accuracy = accuracy_score(y_test, pred_rf)\n",
    "print(f\"RF 정확도: {accuracy:.4f}\")\n",
    "\n",
    "print(\"\\n📌 [3] confusion matrix 출력\") \n",
    "print(confusion_matrix(y_test, pred_rf))"
   ]
  },
  {
   "cell_type": "code",
   "execution_count": 41,
   "id": "435e7f5a-e82c-413a-b02b-b42913173fc7",
   "metadata": {},
   "outputs": [],
   "source": [
    "import pandas as pd\n",
    "import numpy as np\n",
    "import matplotlib.pyplot as plt\n",
    "import seaborn as sns\n",
    "from sklearn.svm import SVC\n",
    "from sklearn.metrics import accuracy_score, classification_report, confusion_matrix"
   ]
  },
  {
   "cell_type": "code",
   "execution_count": 43,
   "id": "8c41acbc-21f3-4a91-a5c2-fc1469b174e0",
   "metadata": {},
   "outputs": [
    {
     "name": "stdout",
     "output_type": "stream",
     "text": [
      "   vhigh  vhigh.1  2  2.1  small  low\n",
      "0      3        3  0    0      2    2\n",
      "1      3        3  0    0      2    0\n",
      "2      3        3  0    0      1    1\n",
      "3      3        3  0    0      1    2\n",
      "4      3        3  0    0      1    0\n",
      "0    2\n",
      "1    2\n",
      "2    2\n",
      "3    2\n",
      "4    2\n",
      "Name: unacc, dtype: int32\n"
     ]
    }
   ],
   "source": [
    "# 입력(X)와 타깃(y) 분리\n",
    "X = df.drop(columns=[\"unacc\"])  # 'Survived' 컬럼 제외 (입력 데이터)\n",
    "y = df[\"unacc\"]  # 'Survived' 컬럼만 저장 (타깃 데이터)\n",
    "\n",
    "# 확인\n",
    "print(X.head())  # 입력 데이터\n",
    "print(y.head())  # 레이블 (타깃 변수)"
   ]
  },
  {
   "cell_type": "code",
   "execution_count": 45,
   "id": "37d314fb-f427-44ff-8090-6e6006e2a987",
   "metadata": {},
   "outputs": [],
   "source": [
    "X_train, X_test, y_train, y_test = train_test_split(X, y,test_size=0.25,random_state=0)"
   ]
  },
  {
   "cell_type": "code",
   "execution_count": 47,
   "id": "13d0dc25-66d7-4ac9-a1f2-81578135a398",
   "metadata": {},
   "outputs": [],
   "source": [
    "# 1. SVM 모델 생성 및 학습\n",
    "svm_model = SVC(kernel=\"linear\", random_state=42)  # 선형 커널 사용\n",
    "svm_model.fit(X_train, y_train)\n",
    "\n",
    "# 2. 예측\n",
    "y_pred_svm = svm_model.predict(X_test)"
   ]
  },
  {
   "cell_type": "code",
   "execution_count": 49,
   "id": "8b1ebf70-1194-4f85-9662-a2636f22f670",
   "metadata": {},
   "outputs": [
    {
     "name": "stdout",
     "output_type": "stream",
     "text": [
      "\n",
      "📌 [1] 예측값 vs 실제값 비교\n",
      "     실제값  예측값\n",
      "0      0    2\n",
      "1      2    2\n",
      "2      2    2\n",
      "3      2    2\n",
      "4      2    2\n",
      "..   ...  ...\n",
      "427    0    2\n",
      "428    2    2\n",
      "429    2    2\n",
      "430    0    2\n",
      "431    2    2\n",
      "\n",
      "[432 rows x 2 columns]\n",
      "\n",
      "📌 [2] 정확도 출력\n",
      "SVM 정확도: 0.7083\n",
      "\n",
      "📌 [3] confusion matrix 출력\n",
      "[[ 14   0  82   0]\n",
      " [  0   0  18   0]\n",
      " [  6   0 292   0]\n",
      " [  8   0  12   0]]\n"
     ]
    }
   ],
   "source": [
    "# 6. 결과 출력\n",
    "print(\"\\n📌 [1] 예측값 vs 실제값 비교\")\n",
    "result_svm = pd.DataFrame({'실제값': y_test.values, '예측값': y_pred_svm})\n",
    "print(result_svm)\n",
    "\n",
    "print(\"\\n📌 [2] 정확도 출력\")\n",
    "accuracy = accuracy_score(y_test, y_pred_svm)\n",
    "print(f\"SVM 정확도: {accuracy:.4f}\")\n",
    "\n",
    "print(\"\\n📌 [3] confusion matrix 출력\") \n",
    "print(confusion_matrix(y_test, y_pred_svm))"
   ]
  },
  {
   "cell_type": "code",
   "execution_count": 51,
   "id": "ad102f04-8fc7-4e7b-842e-ee125ec2e4f5",
   "metadata": {},
   "outputs": [],
   "source": [
    "import pandas as pd\n",
    "import numpy as np\n",
    "import matplotlib.pyplot as plt\n",
    "import seaborn as sns\n",
    "from sklearn.linear_model import LogisticRegression\n",
    "from sklearn.model_selection import train_test_split\n",
    "from sklearn.metrics import accuracy_score, classification_report, confusion_matrix"
   ]
  },
  {
   "cell_type": "code",
   "execution_count": 53,
   "id": "bf1574a3-831d-44fe-812b-960c627e0be5",
   "metadata": {},
   "outputs": [
    {
     "name": "stdout",
     "output_type": "stream",
     "text": [
      "   vhigh  vhigh.1  2  2.1  small  low\n",
      "0      3        3  0    0      2    2\n",
      "1      3        3  0    0      2    0\n",
      "2      3        3  0    0      1    1\n",
      "3      3        3  0    0      1    2\n",
      "4      3        3  0    0      1    0\n",
      "0    2\n",
      "1    2\n",
      "2    2\n",
      "3    2\n",
      "4    2\n",
      "Name: unacc, dtype: int32\n"
     ]
    }
   ],
   "source": [
    "# 입력(X)와 타깃(y) 분리\n",
    "X = df.drop(columns=[\"unacc\"])  # 'Survived' 컬럼 제외 (입력 데이터)\n",
    "y = df[\"unacc\"]  # 'Survived' 컬럼만 저장 (타깃 데이터)\n",
    "\n",
    "# 확인\n",
    "print(X.head())  # 입력 데이터\n",
    "print(y.head())  # 레이블 (타깃 변수)"
   ]
  },
  {
   "cell_type": "code",
   "execution_count": 55,
   "id": "df2ca76d-94fd-444d-8f1f-5b5a9e88de40",
   "metadata": {},
   "outputs": [],
   "source": [
    "X_train, X_test, y_train, y_test = train_test_split(X, y,test_size=0.25,random_state=0)"
   ]
  },
  {
   "cell_type": "code",
   "execution_count": 57,
   "id": "2d2d6da4-993d-43ab-a412-8c65117121d7",
   "metadata": {},
   "outputs": [],
   "source": [
    "# 4. 로지스틱 회귀 모델 생성 및 학습\n",
    "lr_model = LogisticRegression(max_iter=200, random_state=42)\n",
    "lr_model.fit(X_train, y_train)\n",
    "\n",
    "# 5. 예측 수행\n",
    "y_pred_lr = lr_model.predict(X_test)"
   ]
  },
  {
   "cell_type": "code",
   "execution_count": 59,
   "id": "f6d4757e-bfc8-45ad-9a37-927f038fa247",
   "metadata": {},
   "outputs": [
    {
     "name": "stdout",
     "output_type": "stream",
     "text": [
      "\n",
      "📌 [1] 예측값 vs 실제값 비교\n",
      "     실제값  예측값\n",
      "0      0    2\n",
      "1      2    2\n",
      "2      2    2\n",
      "3      2    2\n",
      "4      2    2\n",
      "..   ...  ...\n",
      "427    0    2\n",
      "428    2    2\n",
      "429    2    0\n",
      "430    0    2\n",
      "431    2    2\n",
      "\n",
      "[432 rows x 2 columns]\n",
      "\n",
      "📌 [2] 정확도 출력\n",
      "LR 정확도: 0.6944\n",
      "\n",
      "📌 [3] confusion matrix 출력\n",
      "[[ 24   0  68   4]\n",
      " [  3   0  15   0]\n",
      " [ 21   0 275   2]\n",
      " [  7   0  12   1]]\n"
     ]
    }
   ],
   "source": [
    "# 6. 결과 출력\n",
    "print(\"\\n📌 [1] 예측값 vs 실제값 비교\")\n",
    "result_lr = pd.DataFrame({'실제값': y_test.values, '예측값': y_pred_lr})\n",
    "print(result_lr)\n",
    "\n",
    "print(\"\\n📌 [2] 정확도 출력\")\n",
    "accuracy = accuracy_score(y_test, y_pred_lr)\n",
    "print(f\"LR 정확도: {accuracy:.4f}\")\n",
    "\n",
    "print(\"\\n📌 [3] confusion matrix 출력\") \n",
    "print(confusion_matrix(y_test, y_pred_lr))"
   ]
  },
  {
   "cell_type": "code",
   "execution_count": 61,
   "id": "f1d2a3db-ff22-4a68-84b5-08202fe30735",
   "metadata": {},
   "outputs": [],
   "source": [
    "import pandas as pd\n",
    "import numpy as np\n",
    "from sklearn.model_selection import train_test_split\n",
    "from sklearn.preprocessing import StandardScaler\n",
    "from sklearn.impute import SimpleImputer\n",
    "from sklearn.neighbors import KNeighborsClassifier\n",
    "from sklearn.metrics import accuracy_score"
   ]
  },
  {
   "cell_type": "code",
   "execution_count": 65,
   "id": "520eb4e7-b406-43dc-95aa-de944c0ed115",
   "metadata": {},
   "outputs": [
    {
     "name": "stdout",
     "output_type": "stream",
     "text": [
      "   vhigh  vhigh.1  2  2.1  small  low\n",
      "0      3        3  0    0      2    2\n",
      "1      3        3  0    0      2    0\n",
      "2      3        3  0    0      1    1\n",
      "3      3        3  0    0      1    2\n",
      "4      3        3  0    0      1    0\n",
      "0    2\n",
      "1    2\n",
      "2    2\n",
      "3    2\n",
      "4    2\n",
      "Name: unacc, dtype: int32\n"
     ]
    }
   ],
   "source": [
    "# 입력(X)와 타깃(y) 분리\n",
    "X = df.drop(columns=[\"unacc\"])  # 'Survived' 컬럼 제외 (입력 데이터)\n",
    "y = df[\"unacc\"]  # 'Survived' 컬럼만 저장 (타깃 데이터)\n",
    "\n",
    "# 확인\n",
    "print(X.head())  # 입력 데이터\n",
    "print(y.head())  # 레이블 (타깃 변수)"
   ]
  },
  {
   "cell_type": "code",
   "execution_count": 67,
   "id": "68ece9fb-8797-4798-9105-60da4d3ba45b",
   "metadata": {},
   "outputs": [],
   "source": [
    "X_train, X_test, y_train, y_test = train_test_split(X, y,test_size=0.25,random_state=0)"
   ]
  },
  {
   "cell_type": "code",
   "execution_count": 71,
   "id": "6644a43f-f641-4e22-bbb3-31551760d4ef",
   "metadata": {},
   "outputs": [],
   "source": [
    "# 데이터 스케일링\n",
    "scaler = StandardScaler()\n",
    "X_train = scaler.fit_transform(X_train)\n",
    "X_test = scaler.transform(X_test)\n",
    "\n",
    "# KNN 모델 생성 및 학습 (k=5)\n",
    "knn = KNeighborsClassifier(n_neighbors=5)\n",
    "knn.fit(X_train, y_train)\n",
    "\n",
    "# 예측 및 정확도 평가\n",
    "y_pred_knn = knn.predict(X_test)\n",
    "accuracy = accuracy_score(y_test, y_pred_knn)"
   ]
  },
  {
   "cell_type": "code",
   "execution_count": 73,
   "id": "c3ebd3dd-c17f-492f-af24-1ab224e4fb5e",
   "metadata": {},
   "outputs": [
    {
     "name": "stdout",
     "output_type": "stream",
     "text": [
      "\n",
      "📌 [1] 예측값 vs 실제값 비교\n",
      "     실제값  예측값\n",
      "0      0    0\n",
      "1      2    2\n",
      "2      2    2\n",
      "3      2    2\n",
      "4      2    2\n",
      "..   ...  ...\n",
      "427    0    0\n",
      "428    2    2\n",
      "429    2    2\n",
      "430    0    0\n",
      "431    2    2\n",
      "\n",
      "[432 rows x 2 columns]\n",
      "\n",
      "📌 [2] 정확도 출력\n",
      "KNN 정확도: 0.9352\n",
      "\n",
      "📌 [3] confusion matrix 출력\n",
      "[[ 86   1   9   0]\n",
      " [  9   8   1   0]\n",
      " [  3   0 295   0]\n",
      " [  4   0   1  15]]\n"
     ]
    }
   ],
   "source": [
    "print(\"\\n📌 [1] 예측값 vs 실제값 비교\")\n",
    "result_knn = pd.DataFrame({'실제값': y_test.values, '예측값': y_pred_knn})\n",
    "print(result_knn)\n",
    "\n",
    "print(\"\\n📌 [2] 정확도 출력\")\n",
    "accuracy = accuracy_score(y_test, y_pred_knn)\n",
    "print(f\"KNN 정확도: {accuracy:.4f}\")\n",
    "\n",
    "print(\"\\n📌 [3] confusion matrix 출력\") \n",
    "print(confusion_matrix(y_test, y_pred_knn))"
   ]
  },
  {
   "cell_type": "code",
   "execution_count": null,
   "id": "c20fbb73-bebc-4c74-aad6-bed36245766f",
   "metadata": {},
   "outputs": [],
   "source": []
  }
 ],
 "metadata": {
  "kernelspec": {
   "display_name": "Python [conda env:base] *",
   "language": "python",
   "name": "conda-base-py"
  },
  "language_info": {
   "codemirror_mode": {
    "name": "ipython",
    "version": 3
   },
   "file_extension": ".py",
   "mimetype": "text/x-python",
   "name": "python",
   "nbconvert_exporter": "python",
   "pygments_lexer": "ipython3",
   "version": "3.12.7"
  }
 },
 "nbformat": 4,
 "nbformat_minor": 5
}
