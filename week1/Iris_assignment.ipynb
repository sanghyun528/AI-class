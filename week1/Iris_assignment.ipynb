{
 "cells": [
  {
   "cell_type": "code",
   "execution_count": 7,
   "id": "4562effb-2cc9-42e8-b6d6-71dcf941f392",
   "metadata": {},
   "outputs": [],
   "source": [
    "import pandas as pd\n",
    "import numpy as np\n",
    "from sklearn.model_selection import train_test_split\n",
    "from sklearn.tree import DecisionTreeClassifier\n",
    "from sklearn.metrics import accuracy_score"
   ]
  },
  {
   "cell_type": "code",
   "execution_count": 9,
   "id": "a3d57256-a735-4fe2-8fe3-2b8b346e7cf1",
   "metadata": {},
   "outputs": [
    {
     "name": "stdout",
     "output_type": "stream",
     "text": [
      "   SepalLength  SepalWidth  PetalLength  PetalWidth         Name\n",
      "0          5.1         3.5          1.4         0.2  Iris-setosa\n",
      "1          4.9         3.0          1.4         0.2  Iris-setosa\n",
      "2          4.7         3.2          1.3         0.2  Iris-setosa\n",
      "3          4.6         3.1          1.5         0.2  Iris-setosa\n",
      "4          5.0         3.6          1.4         0.2  Iris-setosa\n",
      "Index(['SepalLength', 'SepalWidth', 'PetalLength', 'PetalWidth', 'Name'], dtype='object')\n"
     ]
    }
   ],
   "source": [
    "# 붓꽃 데이터 CSV 파일 읽기\n",
    "file_path = \"C:/iris.csv\"  # 본인이 iris.csv를 저장한 경로를 입력합니다.\n",
    "df = pd.read_csv(file_path)\n",
    "\n",
    "# 모든 행이 출력되도록 설정\n",
    "pd.set_option(\"display.max_rows\", None)\n",
    "\n",
    "# 데이터프레임 확인\n",
    "print(df.head())\n",
    "print(df.columns)"
   ]
  },
  {
   "cell_type": "code",
   "execution_count": 11,
   "id": "506a8629-2664-438b-844c-c03355316af0",
   "metadata": {},
   "outputs": [],
   "source": [
    "# 데이터가 iris 데이터셋 형식이라 가정하고, 마지막 컬럼이 레이블이라고 가정\n",
    "X = df.iloc[:, :-1]  # 마지막 열을 제외한 나머지를 특성으로 사용\n",
    "y = df.iloc[:, -1]   # 마지막 열을 레이블로 사용\n",
    "\n",
    "# 3. 훈련 데이터와 테스트 데이터 분리\n",
    "X_train, X_test, y_train, y_test = train_test_split(X, y, test_size=0.2, random_state=42)"
   ]
  },
  {
   "cell_type": "code",
   "execution_count": 13,
   "id": "d8a31620-e035-4d9a-b95c-2e8480f9f8e0",
   "metadata": {},
   "outputs": [],
   "source": [
    "# 4. 의사결정나무 모델 생성 및 학습\n",
    "dt_model = DecisionTreeClassifier(random_state=42)\n",
    "dt_model.fit(X_train, y_train)\n",
    "\n",
    "# 5. 예측 수행\n",
    "y_pred = dt_model.predict(X_test)"
   ]
  },
  {
   "cell_type": "code",
   "execution_count": 15,
   "id": "7589399a-3541-47fe-8128-1d0d4b408e82",
   "metadata": {},
   "outputs": [
    {
     "name": "stdout",
     "output_type": "stream",
     "text": [
      "\n",
      "📌 [1] 예측값 vs 실제값 비교\n",
      "                실제값              예측값\n",
      "0   Iris-versicolor  Iris-versicolor\n",
      "1       Iris-setosa      Iris-setosa\n",
      "2    Iris-virginica   Iris-virginica\n",
      "3   Iris-versicolor  Iris-versicolor\n",
      "4   Iris-versicolor  Iris-versicolor\n",
      "5       Iris-setosa      Iris-setosa\n",
      "6   Iris-versicolor  Iris-versicolor\n",
      "7    Iris-virginica   Iris-virginica\n",
      "8   Iris-versicolor  Iris-versicolor\n",
      "9   Iris-versicolor  Iris-versicolor\n",
      "10   Iris-virginica   Iris-virginica\n",
      "11      Iris-setosa      Iris-setosa\n",
      "12      Iris-setosa      Iris-setosa\n",
      "13      Iris-setosa      Iris-setosa\n",
      "14      Iris-setosa      Iris-setosa\n",
      "15  Iris-versicolor  Iris-versicolor\n",
      "16   Iris-virginica   Iris-virginica\n",
      "17  Iris-versicolor  Iris-versicolor\n",
      "18  Iris-versicolor  Iris-versicolor\n",
      "19   Iris-virginica   Iris-virginica\n",
      "20      Iris-setosa      Iris-setosa\n",
      "21   Iris-virginica   Iris-virginica\n",
      "22      Iris-setosa      Iris-setosa\n",
      "23   Iris-virginica   Iris-virginica\n",
      "24   Iris-virginica   Iris-virginica\n",
      "25   Iris-virginica   Iris-virginica\n",
      "26   Iris-virginica   Iris-virginica\n",
      "27   Iris-virginica   Iris-virginica\n",
      "28      Iris-setosa      Iris-setosa\n",
      "29      Iris-setosa      Iris-setosa\n",
      "\n",
      "📌 [2] 정확도 출력\n",
      "모델 정확도: 1.0000\n"
     ]
    }
   ],
   "source": [
    "print(\"\\n📌 [1] 예측값 vs 실제값 비교\")\n",
    "result_df = pd.DataFrame({'실제값': y_test.values, '예측값': y_pred})\n",
    "print(result_df)  # 앞 10개 데이터만 출력\n",
    "\n",
    "print(\"\\n📌 [2] 정확도 출력\")\n",
    "accuracy = accuracy_score(y_test, y_pred)\n",
    "print(f\"모델 정확도: {accuracy:.4f}\")"
   ]
  },
  {
   "cell_type": "code",
   "execution_count": 17,
   "id": "b4e8b3e9-bc7b-4e04-b6cf-f3c2d32c0e7a",
   "metadata": {},
   "outputs": [],
   "source": [
    "import pandas as pd\n",
    "import numpy as np\n",
    "import matplotlib.pyplot as plt\n",
    "import seaborn as sns\n",
    "from sklearn.ensemble import RandomForestClassifier\n",
    "from sklearn.model_selection import train_test_split\n",
    "from sklearn.metrics import accuracy_score, classification_report, confusion_matrix"
   ]
  },
  {
   "cell_type": "code",
   "execution_count": 19,
   "id": "800ccdf9-a8e3-43f6-b1b8-80392a8f617c",
   "metadata": {},
   "outputs": [],
   "source": [
    "# 1. CSV 파일 읽기\n",
    "file_path = \"C:/iris.csv\"  # 본인 경로 입력\n",
    "df = pd.read_csv(file_path)"
   ]
  },
  {
   "cell_type": "code",
   "execution_count": 21,
   "id": "5d797b56-5827-4f23-994e-d5088bb2c280",
   "metadata": {},
   "outputs": [],
   "source": [
    "# 2. 특성과 레이블 분리 (마지막 열이 레이블이라고 가정)\n",
    "X = df.iloc[:, :-1]  # 특성 데이터\n",
    "y = df.iloc[:, -1]   # 레이블 데이터\n",
    "\n",
    "# 3. 훈련 데이터와 테스트 데이터 분리 (8:2 비율)\n",
    "X_train, X_test, y_train, y_test = train_test_split(X, y, test_size=0.2, random_state=42)"
   ]
  },
  {
   "cell_type": "code",
   "execution_count": 23,
   "id": "e57cda2e-9e41-4293-b718-f0ef08403c49",
   "metadata": {},
   "outputs": [],
   "source": [
    "# 4. 랜덤 포레스트 모델 생성 및 학습\n",
    "rf_model = RandomForestClassifier(n_estimators=100, random_state=42)\n",
    "rf_model.fit(X_train, y_train)\n",
    "\n",
    "# 5. 예측 수행\n",
    "y_pred = rf_model.predict(X_test)"
   ]
  },
  {
   "cell_type": "code",
   "execution_count": 24,
   "id": "c313e03e-007d-44a0-bf89-2dd55bfcf192",
   "metadata": {},
   "outputs": [
    {
     "name": "stdout",
     "output_type": "stream",
     "text": [
      "\n",
      "📌 [1] 예측값 vs 실제값 비교\n",
      "                실제값              예측값\n",
      "0   Iris-versicolor  Iris-versicolor\n",
      "1       Iris-setosa      Iris-setosa\n",
      "2    Iris-virginica   Iris-virginica\n",
      "3   Iris-versicolor  Iris-versicolor\n",
      "4   Iris-versicolor  Iris-versicolor\n",
      "5       Iris-setosa      Iris-setosa\n",
      "6   Iris-versicolor  Iris-versicolor\n",
      "7    Iris-virginica   Iris-virginica\n",
      "8   Iris-versicolor  Iris-versicolor\n",
      "9   Iris-versicolor  Iris-versicolor\n",
      "10   Iris-virginica   Iris-virginica\n",
      "11      Iris-setosa      Iris-setosa\n",
      "12      Iris-setosa      Iris-setosa\n",
      "13      Iris-setosa      Iris-setosa\n",
      "14      Iris-setosa      Iris-setosa\n",
      "15  Iris-versicolor  Iris-versicolor\n",
      "16   Iris-virginica   Iris-virginica\n",
      "17  Iris-versicolor  Iris-versicolor\n",
      "18  Iris-versicolor  Iris-versicolor\n",
      "19   Iris-virginica   Iris-virginica\n",
      "20      Iris-setosa      Iris-setosa\n",
      "21   Iris-virginica   Iris-virginica\n",
      "22      Iris-setosa      Iris-setosa\n",
      "23   Iris-virginica   Iris-virginica\n",
      "24   Iris-virginica   Iris-virginica\n",
      "25   Iris-virginica   Iris-virginica\n",
      "26   Iris-virginica   Iris-virginica\n",
      "27   Iris-virginica   Iris-virginica\n",
      "28      Iris-setosa      Iris-setosa\n",
      "29      Iris-setosa      Iris-setosa\n",
      "\n",
      "📌 [2] 정확도 출력\n",
      "랜덤 포레스트 정확도: 1.0000\n"
     ]
    }
   ],
   "source": [
    "# 6. 결과 출력\n",
    "print(\"\\n📌 [1] 예측값 vs 실제값 비교\")\n",
    "result_df = pd.DataFrame({'실제값': y_test.values, '예측값': y_pred})\n",
    "print(result_df)\n",
    "\n",
    "print(\"\\n📌 [2] 정확도 출력\")\n",
    "accuracy = accuracy_score(y_test, y_pred)\n",
    "print(f\"랜덤 포레스트 정확도: {accuracy:.4f}\")"
   ]
  },
  {
   "cell_type": "code",
   "execution_count": 27,
   "id": "6097f2f4-6d48-43a1-9c47-2ca86b8a23ca",
   "metadata": {},
   "outputs": [],
   "source": [
    "import pandas as pd\n",
    "import numpy as np\n",
    "import matplotlib.pyplot as plt\n",
    "import seaborn as sns\n",
    "from sklearn.svm import SVC\n",
    "from sklearn.metrics import accuracy_score, classification_report, confusion_matrix"
   ]
  },
  {
   "cell_type": "code",
   "execution_count": 29,
   "id": "c88e0e92-4142-41ca-9bca-c2db77df218b",
   "metadata": {},
   "outputs": [],
   "source": [
    "# 1. CSV 파일 읽기\n",
    "file_path = \"C:/iris.csv\"  # 본인 경로 입력\n",
    "df = pd.read_csv(file_path)\n",
    "\n",
    "# 2. 특성과 레이블 분리 (마지막 열이 레이블이라고 가정)\n",
    "X = df.iloc[:, :-1]  # 특성 데이터\n",
    "y = df.iloc[:, -1]   # 레이블 데이터\n",
    "\n",
    "# 3. 훈련 데이터와 테스트 데이터 분리 (8:2 비율)\n",
    "X_train, X_test, y_train, y_test = train_test_split(X, y, test_size=0.2, random_state=42)"
   ]
  },
  {
   "cell_type": "code",
   "execution_count": 31,
   "id": "6fea59a0-1d50-44ba-b81a-f1d15f5f7349",
   "metadata": {},
   "outputs": [],
   "source": [
    "# 4. SVM 모델 생성 및 학습 (모든 데이터를 학습에 사용)\n",
    "svm_model = SVC(kernel=\"linear\", random_state=42)  # 선형 커널 SVM 사용\n",
    "svm_model.fit(X_train, y_train)\n",
    "\n",
    "# 5. 예측 수행 (훈련 데이터 전체를 다시 예측)\n",
    "y_pred = svm_model.predict(X_test)"
   ]
  },
  {
   "cell_type": "code",
   "execution_count": 33,
   "id": "6f1631e4-06f7-45ea-ad0c-e3e72c1d0873",
   "metadata": {
    "scrolled": true
   },
   "outputs": [
    {
     "name": "stdout",
     "output_type": "stream",
     "text": [
      "\n",
      "📌 [1] 예측값 vs 실제값 비교\n",
      "                실제값              예측값\n",
      "0   Iris-versicolor  Iris-versicolor\n",
      "1       Iris-setosa      Iris-setosa\n",
      "2    Iris-virginica   Iris-virginica\n",
      "3   Iris-versicolor  Iris-versicolor\n",
      "4   Iris-versicolor  Iris-versicolor\n",
      "5       Iris-setosa      Iris-setosa\n",
      "6   Iris-versicolor  Iris-versicolor\n",
      "7    Iris-virginica   Iris-virginica\n",
      "8   Iris-versicolor  Iris-versicolor\n",
      "9   Iris-versicolor  Iris-versicolor\n",
      "10   Iris-virginica   Iris-virginica\n",
      "11      Iris-setosa      Iris-setosa\n",
      "12      Iris-setosa      Iris-setosa\n",
      "13      Iris-setosa      Iris-setosa\n",
      "14      Iris-setosa      Iris-setosa\n",
      "15  Iris-versicolor  Iris-versicolor\n",
      "16   Iris-virginica   Iris-virginica\n",
      "17  Iris-versicolor  Iris-versicolor\n",
      "18  Iris-versicolor  Iris-versicolor\n",
      "19   Iris-virginica   Iris-virginica\n",
      "20      Iris-setosa      Iris-setosa\n",
      "21   Iris-virginica   Iris-virginica\n",
      "22      Iris-setosa      Iris-setosa\n",
      "23   Iris-virginica   Iris-virginica\n",
      "24   Iris-virginica   Iris-virginica\n",
      "25   Iris-virginica   Iris-virginica\n",
      "26   Iris-virginica   Iris-virginica\n",
      "27   Iris-virginica   Iris-virginica\n",
      "28      Iris-setosa      Iris-setosa\n",
      "29      Iris-setosa      Iris-setosa\n",
      "\n",
      "📌 [2] 정확도 출력\n",
      "SVM 정확도: 1.0000\n"
     ]
    }
   ],
   "source": [
    "# 6. 결과 출력\n",
    "print(\"\\n📌 [1] 예측값 vs 실제값 비교\")\n",
    "result_df = pd.DataFrame({'실제값': y_test.values, '예측값': y_pred})\n",
    "print(result_df)\n",
    "\n",
    "print(\"\\n📌 [2] 정확도 출력\")\n",
    "accuracy = accuracy_score(y_test, y_pred)\n",
    "print(f\"SVM 정확도: {accuracy:.4f}\")"
   ]
  },
  {
   "cell_type": "code",
   "execution_count": 35,
   "id": "a87335d6-1c5a-4c69-8d45-67b459d6061c",
   "metadata": {},
   "outputs": [],
   "source": [
    "import pandas as pd\n",
    "import numpy as np\n",
    "import matplotlib.pyplot as plt\n",
    "import seaborn as sns\n",
    "from sklearn.linear_model import LogisticRegression\n",
    "from sklearn.model_selection import train_test_split\n",
    "from sklearn.metrics import accuracy_score, classification_report, confusion_matrix"
   ]
  },
  {
   "cell_type": "code",
   "execution_count": 37,
   "id": "81f42368-abfb-40ed-a768-46bde5d2b9c6",
   "metadata": {},
   "outputs": [],
   "source": [
    "# 1. CSV 파일 읽기\n",
    "file_path = \"C:/iris.csv\"  # 본인 경로 입력\n",
    "df = pd.read_csv(file_path)\n",
    "\n",
    "# 2. 특성과 레이블 분리 (마지막 열이 레이블이라고 가정)\n",
    "X = df.iloc[:, :-1]  # 특성 데이터\n",
    "y = df.iloc[:, -1]   # 레이블 데이터\n",
    "\n",
    "# 3. 훈련 데이터와 테스트 데이터 분리 (8:2 비율)\n",
    "X_train, X_test, y_train, y_test = train_test_split(X, y, test_size=0.2, random_state=42)"
   ]
  },
  {
   "cell_type": "code",
   "execution_count": 39,
   "id": "f203b3f0-b99f-488c-8d59-5f15e893b8b3",
   "metadata": {},
   "outputs": [],
   "source": [
    "# 4. 로지스틱 회귀 모델 생성 및 학습\n",
    "lr_model = LogisticRegression(max_iter=200, random_state=42)\n",
    "lr_model.fit(X_train, y_train)\n",
    "\n",
    "# 5. 예측 수행\n",
    "y_pred = lr_model.predict(X_test)"
   ]
  },
  {
   "cell_type": "code",
   "execution_count": 43,
   "id": "f0bda05e-ac05-4a74-b5e3-546140735418",
   "metadata": {},
   "outputs": [
    {
     "name": "stdout",
     "output_type": "stream",
     "text": [
      "\n",
      "📌 [1] 예측값 vs 실제값 비교\n",
      "                실제값              예측값\n",
      "0   Iris-versicolor  Iris-versicolor\n",
      "1       Iris-setosa      Iris-setosa\n",
      "2    Iris-virginica   Iris-virginica\n",
      "3   Iris-versicolor  Iris-versicolor\n",
      "4   Iris-versicolor  Iris-versicolor\n",
      "5       Iris-setosa      Iris-setosa\n",
      "6   Iris-versicolor  Iris-versicolor\n",
      "7    Iris-virginica   Iris-virginica\n",
      "8   Iris-versicolor  Iris-versicolor\n",
      "9   Iris-versicolor  Iris-versicolor\n",
      "10   Iris-virginica   Iris-virginica\n",
      "11      Iris-setosa      Iris-setosa\n",
      "12      Iris-setosa      Iris-setosa\n",
      "13      Iris-setosa      Iris-setosa\n",
      "14      Iris-setosa      Iris-setosa\n",
      "15  Iris-versicolor  Iris-versicolor\n",
      "16   Iris-virginica   Iris-virginica\n",
      "17  Iris-versicolor  Iris-versicolor\n",
      "18  Iris-versicolor  Iris-versicolor\n",
      "19   Iris-virginica   Iris-virginica\n",
      "20      Iris-setosa      Iris-setosa\n",
      "21   Iris-virginica   Iris-virginica\n",
      "22      Iris-setosa      Iris-setosa\n",
      "23   Iris-virginica   Iris-virginica\n",
      "24   Iris-virginica   Iris-virginica\n",
      "25   Iris-virginica   Iris-virginica\n",
      "26   Iris-virginica   Iris-virginica\n",
      "27   Iris-virginica   Iris-virginica\n",
      "28      Iris-setosa      Iris-setosa\n",
      "29      Iris-setosa      Iris-setosa\n",
      "\n",
      "📌 [2] 정확도 출력\n",
      "로지스틱 회귀 정확도: 1.0000\n"
     ]
    }
   ],
   "source": [
    "# 6. 결과 출력\n",
    "print(\"\\n📌 [1] 예측값 vs 실제값 비교\")\n",
    "result_df = pd.DataFrame({'실제값': y_test.values, '예측값': y_pred})\n",
    "print(result_df)\n",
    "\n",
    "print(\"\\n📌 [2] 정확도 출력\")\n",
    "accuracy = accuracy_score(y_test, y_pred)\n",
    "print(f\"로지스틱 회귀 정확도: {accuracy:.4f}\")"
   ]
  }
 ],
 "metadata": {
  "kernelspec": {
   "display_name": "Python [conda env:base] *",
   "language": "python",
   "name": "conda-base-py"
  },
  "language_info": {
   "codemirror_mode": {
    "name": "ipython",
    "version": 3
   },
   "file_extension": ".py",
   "mimetype": "text/x-python",
   "name": "python",
   "nbconvert_exporter": "python",
   "pygments_lexer": "ipython3",
   "version": "3.12.7"
  }
 },
 "nbformat": 4,
 "nbformat_minor": 5
}
